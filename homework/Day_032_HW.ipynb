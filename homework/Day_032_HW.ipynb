{
 "cells": [
  {
   "cell_type": "markdown",
   "metadata": {},
   "source": [
    "## 練習時間\n",
    "相信大家目前都能夠初步了解機器學習專案的流程及步驟，今天的作業希望大家能夠看看全球機器學習巨頭們在做的機器學習專案。以 google 為例，下圖是 Google 內部專案使用機器學習的數量，隨著時間進展，現在早已超過 2000 個專案在使用 ML。"
   ]
  },
  {
   "cell_type": "markdown",
   "metadata": {},
   "source": [
    "![image](https://cdn-images-1.medium.com/max/800/1*U_L8qI8RmYS-MOBrYvXhSA.png)"
   ]
  },
  {
   "cell_type": "markdown",
   "metadata": {},
   "source": [
    "底下幫同學整理幾間知名企業的 blog 或機器學習網站 (自行搜尋也可)，請挑選一篇文章閱讀並試著回答\n",
    "1. 專案的目標？ (要解決什麼問題）\n",
    "2. 使用的技術是？ (只需知道名稱即可，例如：使用 CNN 卷積神經網路做影像分類)\n",
    "3. 資料來源？ "
   ]
  },
  {
   "cell_type": "markdown",
   "metadata": {},
   "source": [
    "- [Google AI blog](https://ai.googleblog.com/)\n",
    "- [Facebook Research blog](https://research.fb.com/blog/)\n",
    "- [Apple machine learning journal](https://machinelearning.apple.com/)\n",
    "- [機器之心](https://www.jiqizhixin.com/)\n",
    "- [雷鋒網](http://www.leiphone.com/category/ai)"
   ]
  },
  {
   "cell_type": "markdown",
   "metadata": {},
   "source": [
    "DAT264x: Identifying Malaria In Blood Imagery (HOSTED BY MICROSOFT)\n",
    "https://datasciencecapstone.org/competitions/13/identifying-malaria-in-blood/page/40/\n",
    "\n",
    "此為微軟MPP-AI課程的最後專案(Final Project)。\n",
    "\n",
    "瘧疾是由寄生蟲通過雌性按蚊蚊叮咬而引起的血液病。如果沒有及早發現和治療，可能會發生嚴重疾病，往往導致死亡。儘管目前正在努力預防這種疾病，但根據2018年世界衛生組織的一份報告，僅在2017年就有2.19億例瘧疾病例在全球範圍內發生。超過三分之二的病例發生在5歲以下的兒童中。\n",
    "\n",
    "早期發現不僅可以減少疾病並預防死亡，還有助於限制傳播。然而，診斷需要專家檢查厚和薄血塗片幻燈片圖像。該手動過程取決於塗片質量和分類和計數寄生和未感染細胞的專業知識。這些限制給錯誤留下了很大的空間，並為大規模診斷帶來了許多困難。\n",
    "在此挑戰中，需要使用AI工具檢測血塗片幻燈片圖像中的瘧疾。\n",
    "\n",
    "瘧疾數據集包含來自200名患者，150名感染者和50名健康者的吉姆薩染色的薄血塗片。這些圖像是使用移動應用程序獲取的，該應用程序在連接到傳統光學顯微鏡的標準Android智能手機上運行。然後由專業幻燈片閱讀器手動註釋圖像。最後，應用分割方法來檢測和分割圖像中的紅細胞。\n",
    "資料來源在此挑戰中有包含提供。"
   ]
  }
 ],
 "metadata": {
  "kernelspec": {
   "display_name": "Python 3",
   "language": "python",
   "name": "python3"
  },
  "language_info": {
   "codemirror_mode": {
    "name": "ipython",
    "version": 3
   },
   "file_extension": ".py",
   "mimetype": "text/x-python",
   "name": "python",
   "nbconvert_exporter": "python",
   "pygments_lexer": "ipython3",
   "version": "3.7.3"
  }
 },
 "nbformat": 4,
 "nbformat_minor": 2
}
