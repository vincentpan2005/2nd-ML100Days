{
 "cells": [
  {
   "cell_type": "code",
   "execution_count": 2,
   "metadata": {},
   "outputs": [],
   "source": [
    "import os\n",
    "import numpy as np\n",
    "import pandas as pd\n",
    "from datetime import date\n",
    "\n",
    "from sklearn.model_selection import KFold, train_test_split, StratifiedKFold, cross_val_score, GridSearchCV\n",
    "from sklearn.pipeline import Pipeline\n",
    "from sklearn.linear_model import SGDClassifier, LogisticRegression\n",
    "from sklearn.preprocessing import StandardScaler\n",
    "from sklearn.metrics import log_loss, roc_auc_score, auc, roc_curve\n",
    "from sklearn.preprocessing import MinMaxScaler\n",
    "\n",
    "DATA_ROOT = \"./ml100marathon-02-01/\""
   ]
  },
  {
   "cell_type": "code",
   "execution_count": 3,
   "metadata": {},
   "outputs": [
    {
     "name": "stdout",
     "output_type": "stream",
     "text": [
      "(667753, 22)\n",
      "   User_id  Merchant_id  Coupon_id Discount_rate  Distance  Date_received  \\\n",
      "0  1439408         2632     8591.0          20:1       0.0     20160217.0   \n",
      "1  1439408         2632     1078.0          20:1       0.0     20160319.0   \n",
      "2  2029232         3381    11951.0        200:20       1.0     20160129.0   \n",
      "3  2223968         3381     9776.0          10:5       2.0     20160129.0   \n",
      "4    73611         2099    12034.0        100:10      99.0     20160207.0   \n",
      "\n",
      "   Date  label  weekday  weekday_type  ...  weekday_3  weekday_4  weekday_5  \\\n",
      "0   NaN      0      3.0             0  ...          1          0          0   \n",
      "1   NaN      0      6.0             0  ...          0          0          0   \n",
      "2   NaN      0      5.0             0  ...          0          0          1   \n",
      "3   NaN      0      5.0             0  ...          0          0          1   \n",
      "4   NaN      0      7.0             0  ...          0          0          0   \n",
      "\n",
      "   weekday_6  weekday_7  discount_rate  discount_man  discount_jian  \\\n",
      "0          0          0           0.95            20              1   \n",
      "1          1          0           0.95            20              1   \n",
      "2          0          0           0.90           200             20   \n",
      "3          0          0           0.50            10              5   \n",
      "4          0          1           0.90           100             10   \n",
      "\n",
      "   discount_type  is_train  \n",
      "0              1      True  \n",
      "1              1      True  \n",
      "2              1      True  \n",
      "3              1      True  \n",
      "4              1      True  \n",
      "\n",
      "[5 rows x 22 columns]\n",
      "(79216, 22)\n",
      "   User_id  Merchant_id  Coupon_id Discount_rate  Distance  Date_received  \\\n",
      "0  1832624         3381     7610.0        200:20       0.0     20160429.0   \n",
      "1   163606         1569     5054.0        200:30      10.0     20160421.0   \n",
      "2  4061024         3381     7610.0        200:20      10.0     20160426.0   \n",
      "3   106443          450     3732.0          30:5      99.0     20160429.0   \n",
      "4   114747         1569     5054.0        200:30       9.0     20160426.0   \n",
      "\n",
      "   Date  label  weekday  weekday_type  ...  weekday_3  weekday_4  weekday_5  \\\n",
      "0   NaN      0      5.0             0  ...          0          0          1   \n",
      "1   NaN      0      4.0             0  ...          0          1          0   \n",
      "2   NaN      0      2.0             0  ...          0          0          0   \n",
      "3   NaN      0      5.0             0  ...          0          0          1   \n",
      "4   NaN      0      2.0             0  ...          0          0          0   \n",
      "\n",
      "   weekday_6  weekday_7  discount_rate  discount_man  discount_jian  \\\n",
      "0          0          0       0.900000           200             20   \n",
      "1          0          0       0.850000           200             30   \n",
      "2          0          0       0.900000           200             20   \n",
      "3          0          0       0.833333            30              5   \n",
      "4          0          0       0.850000           200             30   \n",
      "\n",
      "   discount_type  is_train  \n",
      "0              1     False  \n",
      "1              1     False  \n",
      "2              1     False  \n",
      "3              1     False  \n",
      "4              1     False  \n",
      "\n",
      "[5 rows x 22 columns]\n"
     ]
    }
   ],
   "source": [
    "train = pd.read_csv(os.path.join(DATA_ROOT,'train.csv'))\n",
    "valid = pd.read_csv(os.path.join(DATA_ROOT,'valid.csv'))\n",
    "print(train.shape)\n",
    "print(train.head())\n",
    "print(valid.shape)\n",
    "print(valid.head())"
   ]
  },
  {
   "cell_type": "code",
   "execution_count": 4,
   "metadata": {},
   "outputs": [
    {
     "name": "stdout",
     "output_type": "stream",
     "text": [
      "14 ['discount_rate', 'discount_type', 'discount_man', 'discount_jian', 'Distance', 'weekday', 'weekday_type', 'weekday_1', 'weekday_2', 'weekday_3', 'weekday_4', 'weekday_5', 'weekday_6', 'weekday_7']\n"
     ]
    }
   ],
   "source": [
    "weekdaycols = ['weekday_' + str(i) for i in range(1,8)]\n",
    "original_feature = [ 'discount_rate',\n",
    "                            'discount_type',\n",
    "                            'discount_man', \n",
    "                            'discount_jian',\n",
    "                            'Distance', \n",
    "                            'weekday', \n",
    "                            'weekday_type'] + weekdaycols\n",
    "print(len(original_feature),original_feature)"
   ]
  },
  {
   "cell_type": "code",
   "execution_count": 5,
   "metadata": {},
   "outputs": [],
   "source": [
    "predictors = original_feature\n",
    "\n",
    "# Fitting Random Forest to the Training set\n",
    "from sklearn.ensemble import RandomForestClassifier\n",
    "\n",
    "# Fitting Logistic Regression to the Training set\n",
    "from sklearn.linear_model import LogisticRegression\n",
    "\n",
    "def check_model(data, predictors):\n",
    "    \n",
    "    classifier = lambda: SGDClassifier(\n",
    "        loss='log', \n",
    "        penalty='l2', \n",
    "        fit_intercept=True, \n",
    "        max_iter=1350,\n",
    "        alpha=0.001,\n",
    "        l1_ratio=0.01,\n",
    "        eta0=0.0,\n",
    "        average=False,\n",
    "        shuffle=True, \n",
    "        n_jobs=4,\n",
    "        n_iter=5,\n",
    "        class_weight=None,\n",
    "        early_stopping=False,\n",
    "        epsilon=0.1,\n",
    "        learning_rate='optimal', \n",
    "        power_t=0.5,\n",
    "        random_state=None,\n",
    "        warm_start=False,\n",
    "        tol=0.001,\n",
    "        verbose=1\n",
    "    )\n",
    "    \n",
    "    classifier2 = lambda: RandomForestClassifier(\n",
    "        n_estimators = 1000, \n",
    "        max_depth = 10,\n",
    "        min_samples_split = 75,\n",
    "        min_samples_leaf =10,\n",
    "        #max_features = 10,\n",
    "        criterion = 'entropy',\n",
    "        oob_score = True,\n",
    "        n_jobs = 4,\n",
    "        verbose = 1\n",
    "    )\n",
    "    \n",
    "    classifier3 = lambda: LogisticRegression(\n",
    "        C=1.0,\n",
    "        max_iter=1000,\n",
    "        class_weight=None,\n",
    "        fit_intercept=True, \n",
    "        penalty='l2', \n",
    "        n_jobs = 4,\n",
    "        tol=0.001,\n",
    "        verbose = 1\n",
    "    )\n",
    "\n",
    "    model = Pipeline(steps=[\n",
    "        ('ss', StandardScaler()),\n",
    "        ('en', classifier())\n",
    "    ])\n",
    "\n",
    "    parameters = {\n",
    "        #'en__alpha': [ 0.001, 0.01, 0.1],\n",
    "        #'en__l1_ratio': [ 0.001, 0.01, 0.1],\n",
    "        #'en__max_iter': range(100, 2000, 250)\n",
    "        #RF\n",
    "        #'en__n_estimators': range(100, 200, 20),\n",
    "        #'en__max_depth': range(10, 100, 10), \n",
    "        #'en__min_samples_split': range(50, 200, 25),\n",
    "        #'en__min_samples_leaf':range(10,100,10)\n",
    "        #'en__max_features': range(3, 14, 2)\n",
    "    }\n",
    "\n",
    "    folder = StratifiedKFold(n_splits=5, shuffle=True)\n",
    "    \n",
    "    grid_search = GridSearchCV(\n",
    "        model, \n",
    "        parameters, \n",
    "        cv=folder, \n",
    "        n_jobs=-1, \n",
    "        verbose=1,\n",
    "        scoring='roc_auc')\n",
    "    grid_search = grid_search.fit(data[predictors], data['label'])\n",
    "    print(grid_search.best_params_, grid_search.best_score_)\n",
    "    \n",
    "    return grid_search"
   ]
  },
  {
   "cell_type": "code",
   "execution_count": 8,
   "metadata": {
    "scrolled": true
   },
   "outputs": [
    {
     "name": "stdout",
     "output_type": "stream",
     "text": [
      "   User_id  Merchant_id  Coupon_id Discount_rate  Distance  Date_received  \\\n",
      "0  1439408         2632     8591.0          20:1       0.0     20160217.0   \n",
      "1  1439408         2632     1078.0          20:1       0.0     20160319.0   \n",
      "2  2029232         3381    11951.0        200:20       1.0     20160129.0   \n",
      "3  2223968         3381     9776.0          10:5       2.0     20160129.0   \n",
      "4    73611         2099    12034.0        100:10      99.0     20160207.0   \n",
      "\n",
      "   Date  label  weekday  weekday_type  ...  weekday_3  weekday_4  weekday_5  \\\n",
      "0   NaN      0      3.0             0  ...          1          0          0   \n",
      "1   NaN      0      6.0             0  ...          0          0          0   \n",
      "2   NaN      0      5.0             0  ...          0          0          1   \n",
      "3   NaN      0      5.0             0  ...          0          0          1   \n",
      "4   NaN      0      7.0             0  ...          0          0          0   \n",
      "\n",
      "   weekday_6  weekday_7  discount_rate  discount_man  discount_jian  \\\n",
      "0          0          0           0.95            20              1   \n",
      "1          1          0           0.95            20              1   \n",
      "2          0          0           0.90           200             20   \n",
      "3          0          0           0.50            10              5   \n",
      "4          0          1           0.90           100             10   \n",
      "\n",
      "   discount_type  is_train  \n",
      "0              1      True  \n",
      "1              1      True  \n",
      "2              1      True  \n",
      "3              1      True  \n",
      "4              1      True  \n",
      "\n",
      "[5 rows x 22 columns]\n",
      "['discount_rate', 'discount_type', 'discount_man', 'discount_jian', 'Distance', 'weekday', 'weekday_type', 'weekday_1', 'weekday_2', 'weekday_3', 'weekday_4', 'weekday_5', 'weekday_6', 'weekday_7']\n",
      "Epoch 1/10\n",
      "667753/667753 [==============================] - 25s 37us/step - loss: 0.1837 - acc: 0.9511\n",
      "Epoch 2/10\n",
      "667753/667753 [==============================] - 24s 36us/step - loss: 0.1786 - acc: 0.9514\n",
      "Epoch 3/10\n",
      "667753/667753 [==============================] - 24s 36us/step - loss: 0.1785 - acc: 0.9514\n",
      "Epoch 4/10\n",
      "667753/667753 [==============================] - 24s 36us/step - loss: 0.1784 - acc: 0.9514\n",
      "Epoch 5/10\n",
      "667753/667753 [==============================] - 23s 35us/step - loss: 0.1784 - acc: 0.9514\n",
      "Epoch 6/10\n",
      "667753/667753 [==============================] - 24s 36us/step - loss: 0.1784 - acc: 0.9514\n",
      "Epoch 7/10\n",
      "667753/667753 [==============================] - 23s 35us/step - loss: 0.1784 - acc: 0.9514\n",
      "Epoch 8/10\n",
      "667753/667753 [==============================] - 24s 36us/step - loss: 0.1727 - acc: 0.9514\n",
      "Epoch 9/10\n",
      "667753/667753 [==============================] - 24s 36us/step - loss: 0.1637 - acc: 0.9514\n",
      "Epoch 10/10\n",
      "667753/667753 [==============================] - 24s 35us/step - loss: 0.1631 - acc: 0.9514\n"
     ]
    },
    {
     "data": {
      "text/plain": [
       "<keras.callbacks.History at 0x29b72faa828>"
      ]
     },
     "execution_count": 8,
     "metadata": {},
     "output_type": "execute_result"
    }
   ],
   "source": [
    "print(train.head())\n",
    "print(predictors)\n",
    "#model = check_model(train, predictors)\n",
    "\n",
    "# Importing the Keras libraries and packages\n",
    "import keras\n",
    "from keras.models import Sequential\n",
    "from keras.layers import Dense\n",
    "\n",
    "# Initialising the ANN\n",
    "model = Sequential()\n",
    "\n",
    "# Adding the input layer and the first hidden layer\n",
    "model.add(Dense(units = len(predictors), kernel_initializer = 'uniform', activation = 'relu', input_dim =  len(predictors)))\n",
    "\n",
    "# Adding the second hidden layer\n",
    "model.add(Dense(units = len(predictors), kernel_initializer = 'uniform', activation = 'relu'))\n",
    "\n",
    "# Adding the output layer\n",
    "model.add(Dense(units = 1, kernel_initializer = 'uniform', activation = 'sigmoid'))\n",
    "\n",
    "# Compiling the ANN\n",
    "model.compile(optimizer = 'adam', loss = 'binary_crossentropy', metrics = ['accuracy'])\n",
    "\n",
    "# Fitting the ANN to the Training set\n",
    "model.fit(train[predictors], train['label'], batch_size = 100, epochs = 10)"
   ]
  },
  {
   "cell_type": "code",
   "execution_count": 12,
   "metadata": {},
   "outputs": [
    {
     "name": "stdout",
     "output_type": "stream",
     "text": [
      "   User_id  Merchant_id  Coupon_id Discount_rate  Distance  Date_received  \\\n",
      "0  1832624         3381     7610.0        200:20       0.0     20160429.0   \n",
      "1   163606         1569     5054.0        200:30      10.0     20160421.0   \n",
      "2  4061024         3381     7610.0        200:20      10.0     20160426.0   \n",
      "3   106443          450     3732.0          30:5      99.0     20160429.0   \n",
      "4   114747         1569     5054.0        200:30       9.0     20160426.0   \n",
      "\n",
      "   Date  label  weekday  weekday_type  ...  weekday_4  weekday_5  weekday_6  \\\n",
      "0   NaN      0      5.0             0  ...          0          1          0   \n",
      "1   NaN      0      4.0             0  ...          1          0          0   \n",
      "2   NaN      0      2.0             0  ...          0          0          0   \n",
      "3   NaN      0      5.0             0  ...          0          1          0   \n",
      "4   NaN      0      2.0             0  ...          0          0          0   \n",
      "\n",
      "   weekday_7  discount_rate  discount_man  discount_jian  discount_type  \\\n",
      "0          0       0.900000           200             20              1   \n",
      "1          0       0.850000           200             30              1   \n",
      "2          0       0.900000           200             20              1   \n",
      "3          0       0.833333            30              5              1   \n",
      "4          0       0.850000           200             30              1   \n",
      "\n",
      "   is_train  pred_prob  \n",
      "0     False   0.014211  \n",
      "1     False   0.000131  \n",
      "2     False   0.000161  \n",
      "3     False   0.072180  \n",
      "4     False   0.000214  \n",
      "\n",
      "[5 rows x 23 columns]\n"
     ]
    }
   ],
   "source": [
    "y_valid_pred = model.predict_proba(valid[predictors])\n",
    "valid1 = valid.copy()\n",
    "#print(y_valid_pred[:10])\n",
    "#valid1['pred_prob'] = y_valid_pred[:, 1]\n",
    "valid1['pred_prob'] = y_valid_pred[:]\n",
    "print(valid1.head())"
   ]
  },
  {
   "cell_type": "code",
   "execution_count": 14,
   "metadata": {},
   "outputs": [
    {
     "name": "stdout",
     "output_type": "stream",
     "text": [
      "Validation AUC: 0.778, Accuracy: 0.952\n"
     ]
    }
   ],
   "source": [
    "from sklearn.metrics import roc_auc_score, accuracy_score\n",
    "#auc_score = roc_auc_score(y_true=valid.label, y_score=y_valid_pred[:,1])\n",
    "auc_score = roc_auc_score(y_true=valid.label, y_score=y_valid_pred[:])\n",
    "acc = accuracy_score(y_true=valid.label, y_pred=y_valid_pred.argmax(axis=1))\n",
    "print(\"Validation AUC: {:.3f}, Accuracy: {:.3f}\".format(auc_score, acc))"
   ]
  },
  {
   "cell_type": "code",
   "execution_count": 16,
   "metadata": {},
   "outputs": [
    {
     "name": "stdout",
     "output_type": "stream",
     "text": [
      "(306313, 19)\n",
      "(306313, 15)\n"
     ]
    }
   ],
   "source": [
    "dftest = pd.read_csv(os.path.join(DATA_ROOT,'test.csv'))\n",
    "dftest = dftest[~dftest.Coupon_id.isna()]\n",
    "dftest.reset_index(drop=True, inplace=True)\n",
    "\n",
    "targetset = dftest.copy()\n",
    "print(targetset.shape)\n",
    "\n",
    "targetset = targetset[~targetset.Coupon_id.isna()]\n",
    "targetset.reset_index(drop=True, inplace=True)\n",
    "testset = targetset[predictors].copy()\n",
    "\n",
    "y_test_pred = model.predict_proba(testset[predictors])\n",
    "test1 = testset.copy()\n",
    "#test1['pred_prob'] = y_test_pred[:, 1]\n",
    "test1['pred_prob'] = y_test_pred[:]\n",
    "print(test1.shape)"
   ]
  },
  {
   "cell_type": "code",
   "execution_count": 17,
   "metadata": {},
   "outputs": [
    {
     "name": "stdout",
     "output_type": "stream",
     "text": [
      "(306313, 4)\n",
      "   User_id Coupon_id Date_received  pred_prob                     uid\n",
      "0  1439408     11002      20160528   0.017568  1439408_11002_20160528\n",
      "1  1439408      8591      20160613   0.123949   1439408_8591_20160613\n",
      "2  1439408      8591      20160516   0.123949   1439408_8591_20160516\n",
      "3  2029232      1532      20160530   0.140006   2029232_1532_20160530\n",
      "4  2029232     12737      20160519   0.151966  2029232_12737_20160519\n"
     ]
    }
   ],
   "source": [
    "output = pd.concat((targetset[[\"User_id\", \"Coupon_id\", \"Date_received\"]], test1[\"pred_prob\"]), axis=1)\n",
    "print(output.shape)\n",
    "\n",
    "output.loc[:, \"User_id\"] = output[\"User_id\"].apply(lambda x:str(int(x)))\n",
    "output.loc[:, \"Coupon_id\"] = output[\"Coupon_id\"].apply(lambda x:str(int(x)))\n",
    "output.loc[:, \"Date_received\"] = output[\"Date_received\"].apply(lambda x:str(int(x)))\n",
    "output[\"uid\"] = output[[\"User_id\", \"Coupon_id\", \"Date_received\"]].apply(lambda x: '_'.join(x.values), axis=1)\n",
    "output.reset_index(drop=True, inplace=True)\n",
    "print(output.head())"
   ]
  },
  {
   "cell_type": "code",
   "execution_count": 18,
   "metadata": {},
   "outputs": [
    {
     "name": "stdout",
     "output_type": "stream",
     "text": [
      "                     uid     label\n",
      "0  1000020_2705_20160519  0.193877\n",
      "1  1000020_8192_20160513  0.153006\n",
      "2  1000065_1455_20160527  0.086505\n",
      "3  1000085_8067_20160513  0.106734\n",
      "4  1000086_2418_20160613  0.140006\n"
     ]
    }
   ],
   "source": [
    "### NOTE: YOUR SUBMITION FILE SHOULD HAVE COLUMN NAME: uid, label\n",
    "out = output.groupby(\"uid\", as_index=False).mean()\n",
    "out = out[[\"uid\", \"pred_prob\"]]\n",
    "out.columns = [\"uid\", \"label\"]\n",
    "out.to_csv(os.path.join(DATA_ROOT,\"results.csv\"), header=[\"uid\", \"label\"], index=False) # submission format\n",
    "print(out.head())"
   ]
  },
  {
   "cell_type": "code",
   "execution_count": null,
   "metadata": {},
   "outputs": [],
   "source": []
  }
 ],
 "metadata": {
  "kernelspec": {
   "display_name": "Python 3",
   "language": "python",
   "name": "python3"
  },
  "language_info": {
   "codemirror_mode": {
    "name": "ipython",
    "version": 3
   },
   "file_extension": ".py",
   "mimetype": "text/x-python",
   "name": "python",
   "nbconvert_exporter": "python",
   "pygments_lexer": "ipython3",
   "version": "3.6.8"
  }
 },
 "nbformat": 4,
 "nbformat_minor": 2
}
