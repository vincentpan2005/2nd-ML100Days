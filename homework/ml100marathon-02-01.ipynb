{
 "cells": [
  {
   "cell_type": "code",
   "execution_count": 1,
   "metadata": {},
   "outputs": [],
   "source": [
    "import os\n",
    "import numpy as np\n",
    "import pandas as pd\n",
    "from datetime import date\n",
    "\n",
    "from sklearn.model_selection import KFold, train_test_split, StratifiedKFold, cross_val_score, GridSearchCV\n",
    "from sklearn.pipeline import Pipeline\n",
    "from sklearn.linear_model import SGDClassifier, LogisticRegression\n",
    "from sklearn.preprocessing import StandardScaler\n",
    "from sklearn.metrics import log_loss, roc_auc_score, auc, roc_curve\n",
    "from sklearn.preprocessing import MinMaxScaler\n",
    "\n",
    "DATA_ROOT = \"./ml100marathon-02-01/\""
   ]
  },
  {
   "cell_type": "code",
   "execution_count": 2,
   "metadata": {},
   "outputs": [
    {
     "name": "stdout",
     "output_type": "stream",
     "text": [
      "(1160742, 7)\n",
      "(306313, 6)\n",
      "   User_id  Merchant_id  Coupon_id Discount_rate  Distance  Date_received  \\\n",
      "0  1439408         2632        NaN           NaN       0.0            NaN   \n",
      "1  1439408         2632     8591.0          20:1       0.0     20160217.0   \n",
      "2  1439408         2632     1078.0          20:1       0.0     20160319.0   \n",
      "3  1832624         3381     7610.0        200:20       0.0     20160429.0   \n",
      "4  2029232         3381    11951.0        200:20       1.0     20160129.0   \n",
      "5  2223968         3381     9776.0          10:5       2.0     20160129.0   \n",
      "6    73611         2099    12034.0        100:10       NaN     20160207.0   \n",
      "7   163606         1569     5054.0        200:30      10.0     20160421.0   \n",
      "8  3273056         4833     7802.0        200:20      10.0     20160130.0   \n",
      "9    94107         3381     7610.0        200:20       2.0     20160412.0   \n",
      "\n",
      "         Date  \n",
      "0  20160217.0  \n",
      "1         NaN  \n",
      "2         NaN  \n",
      "3         NaN  \n",
      "4         NaN  \n",
      "5         NaN  \n",
      "6         NaN  \n",
      "7         NaN  \n",
      "8         NaN  \n",
      "9         NaN  \n",
      "   User_id  Merchant_id  Coupon_id Discount_rate  Distance  Date_received\n",
      "0  1439408         4663    11002.0        150:20       1.0     20160528.0\n",
      "1  1439408         2632     8591.0          20:1       0.0     20160613.0\n",
      "2  1439408         2632     8591.0          20:1       0.0     20160516.0\n",
      "3  2029232          450     1532.0          30:5       0.0     20160530.0\n",
      "4  2029232         6459    12737.0          20:1       0.0     20160519.0\n",
      "5  2747744         6901     1097.0         50:10       NaN     20160606.0\n",
      "6   196342         1579    10698.0          20:1       1.0     20160606.0\n",
      "7   253750         6901     2366.0          30:5       0.0     20160518.0\n",
      "8   343660         4663    11002.0        150:20       NaN     20160528.0\n",
      "9  1113008         3621     2705.0          20:5       0.0     20160524.0\n"
     ]
    }
   ],
   "source": [
    "dfoff = pd.read_csv(os.path.join(DATA_ROOT,'train_offline.csv'))\n",
    "dftest = pd.read_csv(os.path.join(DATA_ROOT,'test_offline.csv'))\n",
    "dftest = dftest[~dftest.Coupon_id.isna()]\n",
    "dftest.reset_index(drop=True, inplace=True)\n",
    "print(dfoff.shape)\n",
    "print(dftest.shape)\n",
    "print(dfoff.head(10))\n",
    "print(dftest.head(10))"
   ]
  },
  {
   "cell_type": "code",
   "execution_count": 3,
   "metadata": {},
   "outputs": [
    {
     "data": {
      "text/plain": [
       " 0    710665\n",
       "-1    413773\n",
       " 1     36304\n",
       "Name: label, dtype: int64"
      ]
     },
     "execution_count": 3,
     "metadata": {},
     "output_type": "execute_result"
    }
   ],
   "source": [
    "## Creat target label \n",
    "\"\"\"\n",
    "According to the definition, \n",
    "1) buy with coupon within (include) 15 days ==> 1\n",
    "2) buy with coupon but out of 15 days ==> 0\n",
    "3) buy without coupon ==> -1 (we don't care)\n",
    "\"\"\"\n",
    "def label(row):\n",
    "    if np.isnan(row['Date_received']):\n",
    "        return -1\n",
    "    if not np.isnan(row['Date']):\n",
    "        td = pd.to_datetime(row['Date'], format='%Y%m%d') -  pd.to_datetime(row['Date_received'], format='%Y%m%d')\n",
    "        if td <= pd.Timedelta(15, 'D'):\n",
    "            return 1\n",
    "    return 0\n",
    "\n",
    "dfoff[\"label\"] = dfoff.apply(label, axis=1)\n",
    "dfoff[\"label\"].value_counts()"
   ]
  },
  {
   "cell_type": "code",
   "execution_count": 4,
   "metadata": {},
   "outputs": [],
   "source": [
    "# Generate features - weekday acquired coupon\n",
    "def getWeekday(row):\n",
    "    if (np.isnan(row)) or (row==-1):\n",
    "        return row\n",
    "    else:\n",
    "        return pd.to_datetime(row, format = \"%Y%m%d\").dayofweek+1 # add one to make it from 0~6 -> 1~7\n",
    "\n",
    "dfoff['weekday'] = dfoff['Date_received'].apply(getWeekday)\n",
    "dftest['weekday'] = dftest['Date_received'].apply(getWeekday)\n",
    "\n",
    "# weekday_type (weekend = 1)\n",
    "dfoff['weekday_type'] = dfoff['weekday'].astype('str').apply(lambda x : 1 if x in [6,7] else 0 ) # apply to trainset\n",
    "dftest['weekday_type'] = dftest['weekday'].astype('str').apply(lambda x : 1 if x in [6,7] else 0 ) # apply to testset"
   ]
  },
  {
   "cell_type": "code",
   "execution_count": 5,
   "metadata": {},
   "outputs": [
    {
     "name": "stdout",
     "output_type": "stream",
     "text": [
      "0    NaN\n",
      "1    3.0\n",
      "2    6.0\n",
      "3    5.0\n",
      "4    5.0\n",
      "5    5.0\n",
      "6    7.0\n",
      "7    4.0\n",
      "8    6.0\n",
      "9    2.0\n",
      "Name: weekday, dtype: float64\n",
      "0    0\n",
      "1    0\n",
      "2    0\n",
      "3    0\n",
      "4    0\n",
      "5    0\n",
      "6    0\n",
      "7    0\n",
      "8    0\n",
      "9    0\n",
      "Name: weekday_type, dtype: int64\n"
     ]
    }
   ],
   "source": [
    "print(dfoff['weekday'][:10])\n",
    "print(dfoff['weekday_type'][:10])"
   ]
  },
  {
   "cell_type": "code",
   "execution_count": 6,
   "metadata": {},
   "outputs": [
    {
     "name": "stdout",
     "output_type": "stream",
     "text": [
      "['weekday_1', 'weekday_2', 'weekday_3', 'weekday_4', 'weekday_5', 'weekday_6', 'weekday_7']\n"
     ]
    }
   ],
   "source": [
    "weekdaycols = ['weekday_' + str(i) for i in range(1,8)]\n",
    "print(weekdaycols)\n",
    "\n",
    "tmpdf = pd.get_dummies(dfoff['weekday'].replace(-1, np.nan))\n",
    "tmpdf.columns = weekdaycols\n",
    "dfoff[weekdaycols] = tmpdf\n",
    "\n",
    "tmpdf = pd.get_dummies(dftest['weekday'].replace(-1, np.nan))\n",
    "tmpdf.columns = weekdaycols\n",
    "dftest[weekdaycols] = tmpdf"
   ]
  },
  {
   "cell_type": "code",
   "execution_count": 7,
   "metadata": {},
   "outputs": [
    {
     "name": "stdout",
     "output_type": "stream",
     "text": [
      "   weekday_1  weekday_2  weekday_3  weekday_4  weekday_5  weekday_6  weekday_7\n",
      "0          0          0          0          0          0          0          0\n",
      "1          0          0          1          0          0          0          0\n",
      "2          0          0          0          0          0          1          0\n",
      "3          0          0          0          0          1          0          0\n",
      "4          0          0          0          0          1          0          0\n",
      "5          0          0          0          0          1          0          0\n",
      "6          0          0          0          0          0          0          1\n",
      "7          0          0          0          1          0          0          0\n",
      "8          0          0          0          0          0          1          0\n",
      "9          0          1          0          0          0          0          0\n"
     ]
    }
   ],
   "source": [
    "print(dfoff[weekdaycols][:10])"
   ]
  },
  {
   "cell_type": "code",
   "execution_count": 8,
   "metadata": {},
   "outputs": [],
   "source": [
    "# Generate features - coupon discount and distance\n",
    "def getDiscountType(row):\n",
    "    if row == 'null':\n",
    "        return 'null'\n",
    "    elif ':' in row:\n",
    "        return 1\n",
    "    else:\n",
    "        return 0\n",
    "\n",
    "def convertRate(row):\n",
    "    \"\"\"Convert discount to rate\"\"\"\n",
    "    if row == 'null':\n",
    "        return 1.0\n",
    "    elif ':' in row:\n",
    "        rows = row.split(':')\n",
    "        return 1.0 - float(rows[1])/float(rows[0])\n",
    "    else:\n",
    "        return float(row)\n",
    "\n",
    "def getDiscountMan(row):\n",
    "    if ':' in row:\n",
    "        rows = row.split(':')\n",
    "        return int(rows[0])\n",
    "    else:\n",
    "        return 0\n",
    "\n",
    "def getDiscountJian(row):\n",
    "    if ':' in row:\n",
    "        rows = row.split(':')\n",
    "        return int(rows[1])\n",
    "    else:\n",
    "        return 0\n",
    "\n",
    "def processData(df):\n",
    "    \n",
    "    # convert discunt_rate\n",
    "    df['discount_rate'] = df['Discount_rate'].astype('str').apply(convertRate)\n",
    "    df['discount_man'] = df['Discount_rate'].astype('str').apply(getDiscountMan)\n",
    "    df['discount_jian'] = df['Discount_rate'].astype('str').apply(getDiscountJian)\n",
    "    df['discount_type'] = df['Discount_rate'].astype('str').apply(getDiscountType)\n",
    "    \n",
    "    # convert distance\n",
    "    df.loc[df.Distance.isna(), \"Distance\"] = 99\n",
    "    return df\n",
    "\n",
    "dfoff = processData(dfoff)\n",
    "dftest = processData(dftest)"
   ]
  },
  {
   "cell_type": "code",
   "execution_count": 9,
   "metadata": {},
   "outputs": [
    {
     "name": "stdout",
     "output_type": "stream",
     "text": [
      "(1160742, 21)\n",
      "   User_id  Merchant_id  Coupon_id Discount_rate  Distance  Date_received  \\\n",
      "0  1439408         2632        NaN           NaN       0.0            NaN   \n",
      "1  1439408         2632     8591.0          20:1       0.0     20160217.0   \n",
      "2  1439408         2632     1078.0          20:1       0.0     20160319.0   \n",
      "3  1832624         3381     7610.0        200:20       0.0     20160429.0   \n",
      "4  2029232         3381    11951.0        200:20       1.0     20160129.0   \n",
      "\n",
      "         Date  label  weekday  weekday_type  ...  weekday_2  weekday_3  \\\n",
      "0  20160217.0     -1      NaN             0  ...          0          0   \n",
      "1         NaN      0      3.0             0  ...          0          1   \n",
      "2         NaN      0      6.0             0  ...          0          0   \n",
      "3         NaN      0      5.0             0  ...          0          0   \n",
      "4         NaN      0      5.0             0  ...          0          0   \n",
      "\n",
      "   weekday_4  weekday_5  weekday_6  weekday_7  discount_rate  discount_man  \\\n",
      "0          0          0          0          0            NaN             0   \n",
      "1          0          0          0          0           0.95            20   \n",
      "2          0          0          1          0           0.95            20   \n",
      "3          0          1          0          0           0.90           200   \n",
      "4          0          1          0          0           0.90           200   \n",
      "\n",
      "   discount_jian  discount_type  \n",
      "0              0              0  \n",
      "1              1              1  \n",
      "2              1              1  \n",
      "3             20              1  \n",
      "4             20              1  \n",
      "\n",
      "[5 rows x 21 columns]\n",
      "(306313, 19)\n",
      "   User_id  Merchant_id  Coupon_id Discount_rate  Distance  Date_received  \\\n",
      "0  1439408         4663    11002.0        150:20       1.0     20160528.0   \n",
      "1  1439408         2632     8591.0          20:1       0.0     20160613.0   \n",
      "2  1439408         2632     8591.0          20:1       0.0     20160516.0   \n",
      "3  2029232          450     1532.0          30:5       0.0     20160530.0   \n",
      "4  2029232         6459    12737.0          20:1       0.0     20160519.0   \n",
      "\n",
      "   weekday  weekday_type  weekday_1  weekday_2  weekday_3  weekday_4  \\\n",
      "0        6             0          0          0          0          0   \n",
      "1        1             0          1          0          0          0   \n",
      "2        1             0          1          0          0          0   \n",
      "3        1             0          1          0          0          0   \n",
      "4        4             0          0          0          0          1   \n",
      "\n",
      "   weekday_5  weekday_6  weekday_7  discount_rate  discount_man  \\\n",
      "0          0          1          0       0.866667           150   \n",
      "1          0          0          0       0.950000            20   \n",
      "2          0          0          0       0.950000            20   \n",
      "3          0          0          0       0.833333            30   \n",
      "4          0          0          0       0.950000            20   \n",
      "\n",
      "   discount_jian  discount_type  \n",
      "0             20              1  \n",
      "1              1              1  \n",
      "2              1              1  \n",
      "3              5              1  \n",
      "4              1              1  \n"
     ]
    }
   ],
   "source": [
    "print(dfoff.shape)\n",
    "print(dfoff.head())\n",
    "print(dftest.shape)\n",
    "print(dftest.head())"
   ]
  },
  {
   "cell_type": "code",
   "execution_count": 10,
   "metadata": {},
   "outputs": [
    {
     "name": "stdout",
     "output_type": "stream",
     "text": [
      "Train size: 667753, #positive: 32472\n",
      "Valid size: 79216, #positive: 3832\n"
     ]
    }
   ],
   "source": [
    "## Naive model\n",
    "## date < date_cut = train data else valid data\n",
    "def split_train_valid(row, date_cut=\"20160416\"):\n",
    "    is_train = True if pd.to_datetime(row, format=\"%Y%m%d\") < pd.to_datetime(date_cut, format=\"%Y%m%d\") else False\n",
    "    return is_train\n",
    "    \n",
    "df = dfoff[dfoff['label'] != -1].copy()\n",
    "df[\"is_train\"] = df[\"Date_received\"].apply(split_train_valid)\n",
    "train = df[df[\"is_train\"]]\n",
    "valid = df[~df[\"is_train\"]]\n",
    "train.reset_index(drop=True, inplace=True)\n",
    "valid.reset_index(drop=True, inplace=True)\n",
    "print(\"Train size: {}, #positive: {}\".format(len(train), train[\"label\"].sum()))\n",
    "print(\"Valid size: {}, #positive: {}\".format(len(valid), valid[\"label\"].sum()))"
   ]
  },
  {
   "cell_type": "code",
   "execution_count": 11,
   "metadata": {},
   "outputs": [
    {
     "name": "stdout",
     "output_type": "stream",
     "text": [
      "   User_id  Merchant_id  Coupon_id Discount_rate  Distance  Date_received  \\\n",
      "0  1439408         2632     8591.0          20:1       0.0     20160217.0   \n",
      "1  1439408         2632     1078.0          20:1       0.0     20160319.0   \n",
      "2  2029232         3381    11951.0        200:20       1.0     20160129.0   \n",
      "3  2223968         3381     9776.0          10:5       2.0     20160129.0   \n",
      "4    73611         2099    12034.0        100:10      99.0     20160207.0   \n",
      "\n",
      "   Date  label  weekday  weekday_type  ...  weekday_3  weekday_4  weekday_5  \\\n",
      "0   NaN      0      3.0             0  ...          1          0          0   \n",
      "1   NaN      0      6.0             0  ...          0          0          0   \n",
      "2   NaN      0      5.0             0  ...          0          0          1   \n",
      "3   NaN      0      5.0             0  ...          0          0          1   \n",
      "4   NaN      0      7.0             0  ...          0          0          0   \n",
      "\n",
      "   weekday_6  weekday_7  discount_rate  discount_man  discount_jian  \\\n",
      "0          0          0           0.95            20              1   \n",
      "1          1          0           0.95            20              1   \n",
      "2          0          0           0.90           200             20   \n",
      "3          0          0           0.50            10              5   \n",
      "4          0          1           0.90           100             10   \n",
      "\n",
      "   discount_type  is_train  \n",
      "0              1      True  \n",
      "1              1      True  \n",
      "2              1      True  \n",
      "3              1      True  \n",
      "4              1      True  \n",
      "\n",
      "[5 rows x 22 columns]\n",
      "   User_id  Merchant_id  Coupon_id Discount_rate  Distance  Date_received  \\\n",
      "0  1832624         3381     7610.0        200:20       0.0     20160429.0   \n",
      "1   163606         1569     5054.0        200:30      10.0     20160421.0   \n",
      "2  4061024         3381     7610.0        200:20      10.0     20160426.0   \n",
      "3   106443          450     3732.0          30:5      99.0     20160429.0   \n",
      "4   114747         1569     5054.0        200:30       9.0     20160426.0   \n",
      "\n",
      "   Date  label  weekday  weekday_type  ...  weekday_3  weekday_4  weekday_5  \\\n",
      "0   NaN      0      5.0             0  ...          0          0          1   \n",
      "1   NaN      0      4.0             0  ...          0          1          0   \n",
      "2   NaN      0      2.0             0  ...          0          0          0   \n",
      "3   NaN      0      5.0             0  ...          0          0          1   \n",
      "4   NaN      0      2.0             0  ...          0          0          0   \n",
      "\n",
      "   weekday_6  weekday_7  discount_rate  discount_man  discount_jian  \\\n",
      "0          0          0       0.900000           200             20   \n",
      "1          0          0       0.850000           200             30   \n",
      "2          0          0       0.900000           200             20   \n",
      "3          0          0       0.833333            30              5   \n",
      "4          0          0       0.850000           200             30   \n",
      "\n",
      "   discount_type  is_train  \n",
      "0              1     False  \n",
      "1              1     False  \n",
      "2              1     False  \n",
      "3              1     False  \n",
      "4              1     False  \n",
      "\n",
      "[5 rows x 22 columns]\n"
     ]
    }
   ],
   "source": [
    "print(train.head())\n",
    "print(valid.head())"
   ]
  },
  {
   "cell_type": "code",
   "execution_count": 12,
   "metadata": {},
   "outputs": [
    {
     "name": "stdout",
     "output_type": "stream",
     "text": [
      "Done!\n"
     ]
    }
   ],
   "source": [
    "train.to_csv(os.path.join(DATA_ROOT,\"train.csv\"), index=False) \n",
    "valid.to_csv(os.path.join(DATA_ROOT,\"valid.csv\"), index=False) \n",
    "dftest.to_csv(os.path.join(DATA_ROOT,\"test.csv\"), index=False) \n",
    "print('Done!')"
   ]
  },
  {
   "cell_type": "code",
   "execution_count": null,
   "metadata": {},
   "outputs": [],
   "source": []
  }
 ],
 "metadata": {
  "kernelspec": {
   "display_name": "Python 3",
   "language": "python",
   "name": "python3"
  },
  "language_info": {
   "codemirror_mode": {
    "name": "ipython",
    "version": 3
   },
   "file_extension": ".py",
   "mimetype": "text/x-python",
   "name": "python",
   "nbconvert_exporter": "python",
   "pygments_lexer": "ipython3",
   "version": "3.6.8"
  }
 },
 "nbformat": 4,
 "nbformat_minor": 2
}
