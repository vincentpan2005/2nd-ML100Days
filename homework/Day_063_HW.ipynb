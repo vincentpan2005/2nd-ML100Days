{
 "cells": [
  {
   "cell_type": "markdown",
   "metadata": {},
   "source": [
    "# 作業\n",
    "* 在精簡深度學習的方式上 : 卷積類神經 (CNN) 採用像素遠近，而遞歸類神經 (RNN) 採用著則是時間遠近\n",
    "* 那麼，既然有著類似的設計精神，兩者是否有可能互換應用呢?"
   ]
  },
  {
   "cell_type": "markdown",
   "metadata": {
    "collapsed": true
   },
   "source": [
    "RNN的重要特性是可以處理不定長的輸入，得到一定的輸出。當輸入可長可短， 比如訓練翻譯模型的時候， 句子長度都不固定，是無法像一個訓練固定畫素的影象那樣用CNN搞定的。而利用RNN的迴圈特性可以輕鬆搞定。 \n",
    "在序列訊號的應用上，CNN是隻響應預先設定的訊號長度（輸入向量的長度），RNN的響應長度是學習出來的。\n",
    "\n",
    "CNN對特徵的響應是線性的，RNN在這個遞進方向上是非線性響應的。這也帶來了很大的差別。\n",
    "\n",
    "CNN 專門解決影象問題的，可用把它看作特徵提取層，放在輸入層上，最後用MLP 做分類。 \n",
    "RNN 專門解決時間序列問題的，用來提取時間序列資訊，放在特徵提取層（如CNN）之後。\n",
    "\n",
    "RNN，遞迴型網路，用於序列資料，並且有了一定的記憶效應，輔之以lstm。 \n",
    "CNN應該側重空間對映，影象資料尤為貼合此場景。\n",
    "\n",
    "CNN 卷積擅長從區域性特徵逼近整體特徵， \n",
    "RNN 擅長對付時間序列。\n",
    "\n",
    "### 因此，CNN與RNN我認為是不能互換應用的。"
   ]
  }
 ],
 "metadata": {
  "kernelspec": {
   "display_name": "Python 3",
   "language": "python",
   "name": "python3"
  },
  "language_info": {
   "codemirror_mode": {
    "name": "ipython",
    "version": 3
   },
   "file_extension": ".py",
   "mimetype": "text/x-python",
   "name": "python",
   "nbconvert_exporter": "python",
   "pygments_lexer": "ipython3",
   "version": "3.7.3"
  }
 },
 "nbformat": 4,
 "nbformat_minor": 2
}
