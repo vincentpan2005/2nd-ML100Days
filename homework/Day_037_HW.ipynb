{
 "cells": [
  {
   "cell_type": "markdown",
   "metadata": {},
   "source": [
    "## [作業重點]\n",
    "了解線性回歸的模型發展歷程，並了解優勢與劣勢，以及其使用情境"
   ]
  },
  {
   "cell_type": "markdown",
   "metadata": {},
   "source": [
    "## 作業"
   ]
  },
  {
   "cell_type": "markdown",
   "metadata": {},
   "source": [
    "請閱讀以下相關文獻，並回答以下問題\n",
    "\n",
    "[Linear Regression 詳細介紹](https://medium.com/@yehjames/%E8%B3%87%E6%96%99%E5%88%86%E6%9E%90-%E6%A9%9F%E5%99%A8%E5%AD%B8%E7%BF%92-%E7%AC%AC3-3%E8%AC%9B-%E7%B7%9A%E6%80%A7%E5%88%86%E9%A1%9E-%E9%82%8F%E8%BC%AF%E6%96%AF%E5%9B%9E%E6%AD%B8-logistic-regression-%E4%BB%8B%E7%B4%B9-a1a5f47017e5)\n",
    "\n",
    "[Logistics Regression 詳細介紹](https://medium.com/@yehjames/%E8%B3%87%E6%96%99%E5%88%86%E6%9E%90-%E6%A9%9F%E5%99%A8%E5%AD%B8%E7%BF%92-%E7%AC%AC3-3%E8%AC%9B-%E7%B7%9A%E6%80%A7%E5%88%86%E9%A1%9E-%E9%82%8F%E8%BC%AF%E6%96%AF%E5%9B%9E%E6%AD%B8-logistic-regression-%E4%BB%8B%E7%B4%B9-a1a5f47017e5)\n"
   ]
  },
  {
   "cell_type": "markdown",
   "metadata": {},
   "source": [
    "1. 線性回歸模型能夠準確預測非線性關係的資料集嗎?\n",
    "2. 回歸模型是否對資料分布有基本假設?\n"
   ]
  },
  {
   "cell_type": "markdown",
   "metadata": {},
   "source": [
    "## 1. 線性回歸模型能夠準確預測非線性關係的資料集嗎?\n",
    "利用數理統計方法建立因變量與自變量之間的回歸方程的方法。如果回歸模型的因變量不是自變量的一次函數形式(因變量是自變量的一次以上函數形式)，回歸規律在圖形上表現為形態各異的各種曲線，稱為非線性回歸。這類模型稱為非線性回歸模型。\n",
    "\n",
    "遇到非線性回歸問題可以藉助數學手段化為線性回歸問題處理。\n",
    "\n",
    "處理方法：\n",
    "\n",
    "可線性化問題\n",
    "\n",
    "處理可線性化處理的非線性回歸的基本方法是，通過變量變換，將非線性回歸化為線性回歸，然後用線性回歸方法處理。假定根據理論或經驗，已獲得輸出變量與輸入變量之間的非線性表達式，但表達式的係數是未知的，要根據輸入輸出的n次觀察結果來確定係數的值。按最小二乘法原理來求出係數值，所得到的模型為非線性回歸模型(nonlinear regression model)。\n",
    "\n",
    "不可線性化問題\n",
    "\n",
    "對實際科學研究中常遇到不可線性處理的非線性回歸問題，提出了一種新的解決方法。該方法是基於回歸問題的最小二乘法，在求誤差平方和最小的極值問題上，應用了最優化方法中對無約束極值問題的一種數學解法——單純形法。應用結果證明，這種非線性回歸的方法算法比較簡單,收斂效果和收斂速度都比較理想。\n"
   ]
  },
  {
   "cell_type": "markdown",
   "metadata": {},
   "source": [
    "## 2.回歸模型是否對資料分布有基本假設?\n",
    "線性迴歸模型是用來預測連續型目標變數與預測變數間的線性關係，並存在許多資料符合常態分佈與線性關係等基本假設。預測變數可以是數值或類別型態，投入模型進行時類別變數都會被轉換成虛擬變數。對於有遺失值的觀測值則會直接忽略，且易受極端值影響，因此在使用模型前必須做好資料前處理。\n",
    "Linear Regression 線性迴歸模型主要是使用最適線性迴歸線來建立依變數Y和一個或多個自變數X間的關係，並可以此線性迴歸方程式，使用給定自變數X的值來預測依變數Y值（適用於目標變數為連續變數時，若目標變數為二元變數，則適用羅吉斯回歸）。（＊線性迴歸方程式的建立則是使用最小平方法Least Sqaures Method來找尋X和Y之間的關係與趨勢）"
   ]
  }
 ],
 "metadata": {
  "kernelspec": {
   "display_name": "Python 3",
   "language": "python",
   "name": "python3"
  },
  "language_info": {
   "codemirror_mode": {
    "name": "ipython",
    "version": 3
   },
   "file_extension": ".py",
   "mimetype": "text/x-python",
   "name": "python",
   "nbconvert_exporter": "python",
   "pygments_lexer": "ipython3",
   "version": "3.7.3"
  }
 },
 "nbformat": 4,
 "nbformat_minor": 2
}
