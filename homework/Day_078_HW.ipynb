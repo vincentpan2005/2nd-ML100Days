{
 "cells": [
  {
   "cell_type": "markdown",
   "metadata": {},
   "source": [
    "## Work\n",
    "1. 請嘗試將 preproc_x 替換成以每筆資料的 min/max 進行標準化至 -1 ~ 1 間，再進行訓練\n",
    "2. 請嘗試將 mlp 疊更深 (e.g 5~10 層)，進行訓練後觀察 learning curve 的走勢\n",
    "3. (optional) 請改用 GPU 進行訓練 (如果你有 GPU 的話)，比較使用 CPU 與 GPU 的訓練速度"
   ]
  },
  {
   "cell_type": "code",
   "execution_count": 1,
   "metadata": {},
   "outputs": [
    {
     "data": {
      "text/plain": [
       "'\\nYour code here (optional)\\n確認硬體資源\\n'"
      ]
     },
     "execution_count": 1,
     "metadata": {},
     "output_type": "execute_result"
    }
   ],
   "source": [
    "\"\"\"\n",
    "Your code here (optional)\n",
    "確認硬體資源\n",
    "\"\"\"\n",
    "## 確認使用GPU"
   ]
  },
  {
   "cell_type": "code",
   "execution_count": 2,
   "metadata": {},
   "outputs": [
    {
     "name": "stderr",
     "output_type": "stream",
     "text": [
      "Using TensorFlow backend.\n"
     ]
    }
   ],
   "source": [
    "import os\n",
    "import tensorflow as tf\n",
    "import keras\n",
    "\n",
    "# 本作業可以不需使用 GPU, 將 GPU 設定為 \"無\" (若有 GPU 且想開啟，可設為 \"0\")\n",
    "os.environ[\"CUDA_VISIBLE_DEVICES\"] = \"0\"\n",
    "gpu_options = tf.GPUOptions(per_process_gpu_memory_fraction=0.333)  \n",
    "sess = tf.Session(config=tf.ConfigProto(gpu_options=gpu_options))  "
   ]
  },
  {
   "cell_type": "code",
   "execution_count": 3,
   "metadata": {},
   "outputs": [],
   "source": [
    "train, test = keras.datasets.cifar10.load_data()"
   ]
  },
  {
   "cell_type": "code",
   "execution_count": 4,
   "metadata": {},
   "outputs": [],
   "source": [
    "## 資料前處理\n",
    "def preproc_x(x, flatten=True):\n",
    "    #x = x / 255.\n",
    "    x = x / (x.max()-x.min())\n",
    "    if flatten:\n",
    "        x = x.reshape((len(x), -1))\n",
    "    return x\n",
    "\n",
    "def preproc_y(y, num_classes=10):\n",
    "    if y.shape[-1] == 1:\n",
    "        y = keras.utils.to_categorical(y, num_classes)\n",
    "    return y    "
   ]
  },
  {
   "cell_type": "code",
   "execution_count": 5,
   "metadata": {},
   "outputs": [],
   "source": [
    "x_train, y_train = train\n",
    "x_test, y_test = test\n",
    "\n",
    "# Preproc the inputs\n",
    "x_train = preproc_x(x_train)\n",
    "x_test = preproc_x(x_test)\n",
    "\n",
    "# Preprc the outputs\n",
    "y_train = preproc_y(y_train)\n",
    "y_test = preproc_y(y_test)"
   ]
  },
  {
   "cell_type": "code",
   "execution_count": 6,
   "metadata": {},
   "outputs": [
    {
     "name": "stderr",
     "output_type": "stream",
     "text": [
      "WARNING: Logging before flag parsing goes to stderr.\n",
      "W0713 01:17:22.382011 23540 deprecation_wrapper.py:119] From C:\\Users\\vince\\Anaconda3\\lib\\site-packages\\keras\\backend\\tensorflow_backend.py:74: The name tf.get_default_graph is deprecated. Please use tf.compat.v1.get_default_graph instead.\n",
      "\n",
      "W0713 01:17:22.383994 23540 deprecation_wrapper.py:119] From C:\\Users\\vince\\Anaconda3\\lib\\site-packages\\keras\\backend\\tensorflow_backend.py:517: The name tf.placeholder is deprecated. Please use tf.compat.v1.placeholder instead.\n",
      "\n",
      "W0713 01:17:22.387984 23540 deprecation_wrapper.py:119] From C:\\Users\\vince\\Anaconda3\\lib\\site-packages\\keras\\backend\\tensorflow_backend.py:4138: The name tf.random_uniform is deprecated. Please use tf.random.uniform instead.\n",
      "\n"
     ]
    },
    {
     "name": "stdout",
     "output_type": "stream",
     "text": [
      "_________________________________________________________________\n",
      "Layer (type)                 Output Shape              Param #   \n",
      "=================================================================\n",
      "input_1 (InputLayer)         (None, 3072)              0         \n",
      "_________________________________________________________________\n",
      "hidden_layer1 (Dense)        (None, 512)               1573376   \n",
      "_________________________________________________________________\n",
      "hidden_layer2 (Dense)        (None, 256)               131328    \n",
      "_________________________________________________________________\n",
      "hidden_layer3 (Dense)        (None, 128)               32896     \n",
      "_________________________________________________________________\n",
      "output (Dense)               (None, 10)                1290      \n",
      "=================================================================\n",
      "Total params: 1,738,890\n",
      "Trainable params: 1,738,890\n",
      "Non-trainable params: 0\n",
      "_________________________________________________________________\n"
     ]
    }
   ],
   "source": [
    "def build_mlp(input_shape, output_units=10, num_neurons=[512, 256, 128]):\n",
    "    input_layer = keras.layers.Input(input_shape)\n",
    "    \n",
    "    for i, n_units in enumerate(num_neurons):\n",
    "        if i == 0:\n",
    "            x = keras.layers.Dense(units=n_units, activation=\"relu\", name=\"hidden_layer\"+str(i+1))(input_layer)\n",
    "        else:\n",
    "            x = keras.layers.Dense(units=n_units, activation=\"relu\", name=\"hidden_layer\"+str(i+1))(x)\n",
    "    \n",
    "    out = keras.layers.Dense(units=output_units, activation=\"softmax\", name=\"output\")(x)\n",
    "    \n",
    "    model = keras.models.Model(inputs=[input_layer], outputs=[out])\n",
    "    return model\n",
    "\n",
    "model = build_mlp(input_shape=x_train.shape[1:])\n",
    "model.summary()"
   ]
  },
  {
   "cell_type": "code",
   "execution_count": 7,
   "metadata": {},
   "outputs": [],
   "source": [
    "## 超參數設定\n",
    "LEARNING_RATE = 0.001\n",
    "EPOCHS = 100\n",
    "BATCH_SIZE = 256"
   ]
  },
  {
   "cell_type": "code",
   "execution_count": 8,
   "metadata": {},
   "outputs": [
    {
     "name": "stderr",
     "output_type": "stream",
     "text": [
      "W0713 01:17:22.481734 23540 deprecation_wrapper.py:119] From C:\\Users\\vince\\Anaconda3\\lib\\site-packages\\keras\\optimizers.py:790: The name tf.train.Optimizer is deprecated. Please use tf.compat.v1.train.Optimizer instead.\n",
      "\n",
      "W0713 01:17:22.488715 23540 deprecation_wrapper.py:119] From C:\\Users\\vince\\Anaconda3\\lib\\site-packages\\keras\\backend\\tensorflow_backend.py:3295: The name tf.log is deprecated. Please use tf.math.log instead.\n",
      "\n"
     ]
    }
   ],
   "source": [
    "optimizer = keras.optimizers.Adam(lr=LEARNING_RATE)\n",
    "model.compile(loss=\"categorical_crossentropy\", metrics=[\"accuracy\"], optimizer=optimizer)"
   ]
  },
  {
   "cell_type": "code",
   "execution_count": 9,
   "metadata": {},
   "outputs": [
    {
     "name": "stderr",
     "output_type": "stream",
     "text": [
      "W0713 01:17:22.600414 23540 deprecation.py:323] From C:\\Users\\vince\\Anaconda3\\lib\\site-packages\\tensorflow\\python\\ops\\math_grad.py:1250: add_dispatch_support.<locals>.wrapper (from tensorflow.python.ops.array_ops) is deprecated and will be removed in a future version.\n",
      "Instructions for updating:\n",
      "Use tf.where in 2.0, which has the same broadcast rule as np.where\n",
      "W0713 01:17:22.699504 23540 deprecation_wrapper.py:119] From C:\\Users\\vince\\Anaconda3\\lib\\site-packages\\keras\\backend\\tensorflow_backend.py:986: The name tf.assign_add is deprecated. Please use tf.compat.v1.assign_add instead.\n",
      "\n"
     ]
    },
    {
     "name": "stdout",
     "output_type": "stream",
     "text": [
      "Train on 50000 samples, validate on 10000 samples\n",
      "Epoch 1/100\n",
      "50000/50000 [==============================] - 4s 82us/step - loss: 1.9279 - acc: 0.3057 - val_loss: 1.7326 - val_acc: 0.3864\n",
      "Epoch 2/100\n",
      "50000/50000 [==============================] - 3s 64us/step - loss: 1.7048 - acc: 0.3894 - val_loss: 1.6977 - val_acc: 0.3890\n",
      "Epoch 3/100\n",
      "50000/50000 [==============================] - 3s 69us/step - loss: 1.6179 - acc: 0.4241 - val_loss: 1.5729 - val_acc: 0.4355\n",
      "Epoch 4/100\n",
      "50000/50000 [==============================] - 4s 70us/step - loss: 1.5497 - acc: 0.4477 - val_loss: 1.5811 - val_acc: 0.4375\n",
      "Epoch 5/100\n",
      "50000/50000 [==============================] - 3s 69us/step - loss: 1.5112 - acc: 0.4626 - val_loss: 1.5125 - val_acc: 0.4577\n",
      "Epoch 6/100\n",
      "50000/50000 [==============================] - 3s 64us/step - loss: 1.4739 - acc: 0.4738 - val_loss: 1.5210 - val_acc: 0.4582\n",
      "Epoch 7/100\n",
      "50000/50000 [==============================] - 3s 65us/step - loss: 1.4468 - acc: 0.4848 - val_loss: 1.4870 - val_acc: 0.4677\n",
      "Epoch 8/100\n",
      "50000/50000 [==============================] - 3s 66us/step - loss: 1.4136 - acc: 0.4959 - val_loss: 1.4337 - val_acc: 0.4869\n",
      "Epoch 9/100\n",
      "50000/50000 [==============================] - 3s 70us/step - loss: 1.3823 - acc: 0.5067 - val_loss: 1.4384 - val_acc: 0.4821\n",
      "Epoch 10/100\n",
      "50000/50000 [==============================] - 3s 64us/step - loss: 1.3600 - acc: 0.5155 - val_loss: 1.4495 - val_acc: 0.4820\n",
      "Epoch 11/100\n",
      "50000/50000 [==============================] - 3s 64us/step - loss: 1.3444 - acc: 0.5223 - val_loss: 1.4117 - val_acc: 0.4999\n",
      "Epoch 12/100\n",
      "50000/50000 [==============================] - 3s 64us/step - loss: 1.3127 - acc: 0.5307 - val_loss: 1.3872 - val_acc: 0.5065\n",
      "Epoch 13/100\n",
      "50000/50000 [==============================] - 3s 65us/step - loss: 1.2908 - acc: 0.5418 - val_loss: 1.3978 - val_acc: 0.5009\n",
      "Epoch 14/100\n",
      "50000/50000 [==============================] - 3s 64us/step - loss: 1.2644 - acc: 0.5495 - val_loss: 1.4087 - val_acc: 0.5014\n",
      "Epoch 15/100\n",
      "50000/50000 [==============================] - 3s 63us/step - loss: 1.2566 - acc: 0.5504 - val_loss: 1.4037 - val_acc: 0.4981\n",
      "Epoch 16/100\n",
      "50000/50000 [==============================] - 3s 64us/step - loss: 1.2269 - acc: 0.5611 - val_loss: 1.3683 - val_acc: 0.5160\n",
      "Epoch 17/100\n",
      "50000/50000 [==============================] - 3s 64us/step - loss: 1.1992 - acc: 0.5702 - val_loss: 1.3680 - val_acc: 0.5102\n",
      "Epoch 18/100\n",
      "50000/50000 [==============================] - 3s 63us/step - loss: 1.1877 - acc: 0.5778 - val_loss: 1.3812 - val_acc: 0.5142\n",
      "Epoch 19/100\n",
      "50000/50000 [==============================] - 3s 64us/step - loss: 1.1633 - acc: 0.5824 - val_loss: 1.3969 - val_acc: 0.5157\n",
      "Epoch 20/100\n",
      "50000/50000 [==============================] - 3s 64us/step - loss: 1.1491 - acc: 0.5910 - val_loss: 1.4140 - val_acc: 0.5026\n",
      "Epoch 21/100\n",
      "50000/50000 [==============================] - 3s 64us/step - loss: 1.1210 - acc: 0.6010 - val_loss: 1.3803 - val_acc: 0.5130\n",
      "Epoch 22/100\n",
      "50000/50000 [==============================] - 3s 64us/step - loss: 1.1047 - acc: 0.6041 - val_loss: 1.4511 - val_acc: 0.5059\n",
      "Epoch 23/100\n",
      "50000/50000 [==============================] - 3s 65us/step - loss: 1.0839 - acc: 0.6140 - val_loss: 1.3653 - val_acc: 0.5203\n",
      "Epoch 24/100\n",
      "50000/50000 [==============================] - 3s 64us/step - loss: 1.0705 - acc: 0.6157 - val_loss: 1.3611 - val_acc: 0.5256\n",
      "Epoch 25/100\n",
      "50000/50000 [==============================] - 3s 64us/step - loss: 1.0546 - acc: 0.6229 - val_loss: 1.4196 - val_acc: 0.5139\n",
      "Epoch 26/100\n",
      "50000/50000 [==============================] - 3s 66us/step - loss: 1.0370 - acc: 0.6283 - val_loss: 1.3777 - val_acc: 0.5262\n",
      "Epoch 27/100\n",
      "50000/50000 [==============================] - 3s 68us/step - loss: 1.0118 - acc: 0.6377 - val_loss: 1.3964 - val_acc: 0.5252\n",
      "Epoch 28/100\n",
      "50000/50000 [==============================] - 3s 64us/step - loss: 0.9912 - acc: 0.6451 - val_loss: 1.4077 - val_acc: 0.5177\n",
      "Epoch 29/100\n",
      "50000/50000 [==============================] - 3s 66us/step - loss: 0.9767 - acc: 0.6495 - val_loss: 1.4198 - val_acc: 0.5208\n",
      "Epoch 30/100\n",
      "50000/50000 [==============================] - 3s 64us/step - loss: 0.9603 - acc: 0.6585 - val_loss: 1.4279 - val_acc: 0.5148\n",
      "Epoch 31/100\n",
      "50000/50000 [==============================] - 3s 65us/step - loss: 0.9453 - acc: 0.6614 - val_loss: 1.4238 - val_acc: 0.5261\n",
      "Epoch 32/100\n",
      "50000/50000 [==============================] - 3s 64us/step - loss: 0.9231 - acc: 0.6704 - val_loss: 1.4488 - val_acc: 0.5212\n",
      "Epoch 33/100\n",
      "50000/50000 [==============================] - 3s 63us/step - loss: 0.9068 - acc: 0.6770 - val_loss: 1.5223 - val_acc: 0.5044\n",
      "Epoch 34/100\n",
      "50000/50000 [==============================] - 3s 63us/step - loss: 0.8998 - acc: 0.6778 - val_loss: 1.4745 - val_acc: 0.5265\n",
      "Epoch 35/100\n",
      "50000/50000 [==============================] - 3s 64us/step - loss: 0.8737 - acc: 0.6882 - val_loss: 1.4853 - val_acc: 0.5254\n",
      "Epoch 36/100\n",
      "50000/50000 [==============================] - 3s 63us/step - loss: 0.8589 - acc: 0.6935 - val_loss: 1.4412 - val_acc: 0.5350\n",
      "Epoch 37/100\n",
      "50000/50000 [==============================] - 3s 66us/step - loss: 0.8470 - acc: 0.6977 - val_loss: 1.5170 - val_acc: 0.5284\n",
      "Epoch 38/100\n",
      "50000/50000 [==============================] - 3s 64us/step - loss: 0.8320 - acc: 0.7038 - val_loss: 1.4972 - val_acc: 0.5286\n",
      "Epoch 39/100\n",
      "50000/50000 [==============================] - 3s 63us/step - loss: 0.8145 - acc: 0.7087 - val_loss: 1.5138 - val_acc: 0.5282\n",
      "Epoch 40/100\n",
      "50000/50000 [==============================] - 3s 65us/step - loss: 0.7933 - acc: 0.7174 - val_loss: 1.5894 - val_acc: 0.5199\n",
      "Epoch 41/100\n",
      "50000/50000 [==============================] - 3s 64us/step - loss: 0.7828 - acc: 0.7194 - val_loss: 1.5717 - val_acc: 0.5229\n",
      "Epoch 42/100\n",
      "50000/50000 [==============================] - 3s 66us/step - loss: 0.7660 - acc: 0.7246 - val_loss: 1.5812 - val_acc: 0.5236\n",
      "Epoch 43/100\n",
      "50000/50000 [==============================] - 3s 63us/step - loss: 0.7477 - acc: 0.7325 - val_loss: 1.5989 - val_acc: 0.5219\n",
      "Epoch 44/100\n",
      "50000/50000 [==============================] - 3s 63us/step - loss: 0.7252 - acc: 0.7394 - val_loss: 1.6624 - val_acc: 0.5189\n",
      "Epoch 45/100\n",
      "50000/50000 [==============================] - 3s 63us/step - loss: 0.7219 - acc: 0.7423 - val_loss: 1.7251 - val_acc: 0.5156\n",
      "Epoch 46/100\n",
      "50000/50000 [==============================] - 3s 65us/step - loss: 0.7104 - acc: 0.7459 - val_loss: 1.6736 - val_acc: 0.5211\n",
      "Epoch 47/100\n",
      "50000/50000 [==============================] - 3s 66us/step - loss: 0.6942 - acc: 0.7538 - val_loss: 1.6866 - val_acc: 0.5214\n",
      "Epoch 48/100\n",
      "50000/50000 [==============================] - 3s 68us/step - loss: 0.6886 - acc: 0.7519 - val_loss: 1.6982 - val_acc: 0.5225\n",
      "Epoch 49/100\n",
      "50000/50000 [==============================] - 3s 63us/step - loss: 0.6569 - acc: 0.7646 - val_loss: 1.7329 - val_acc: 0.5213\n",
      "Epoch 50/100\n",
      "50000/50000 [==============================] - 3s 64us/step - loss: 0.6666 - acc: 0.7625 - val_loss: 1.7473 - val_acc: 0.5216\n",
      "Epoch 51/100\n",
      "50000/50000 [==============================] - 3s 63us/step - loss: 0.6385 - acc: 0.7696 - val_loss: 1.8381 - val_acc: 0.5186\n",
      "Epoch 52/100\n",
      "50000/50000 [==============================] - 3s 63us/step - loss: 0.6304 - acc: 0.7732 - val_loss: 1.8393 - val_acc: 0.5074\n",
      "Epoch 53/100\n",
      "50000/50000 [==============================] - 3s 64us/step - loss: 0.6175 - acc: 0.7788 - val_loss: 1.8012 - val_acc: 0.5230\n",
      "Epoch 54/100\n",
      "50000/50000 [==============================] - 3s 66us/step - loss: 0.6045 - acc: 0.7821 - val_loss: 1.8388 - val_acc: 0.5193\n",
      "Epoch 55/100\n",
      "50000/50000 [==============================] - 3s 65us/step - loss: 0.5920 - acc: 0.7861 - val_loss: 1.9032 - val_acc: 0.5089\n",
      "Epoch 56/100\n",
      "50000/50000 [==============================] - 3s 63us/step - loss: 0.5878 - acc: 0.7889 - val_loss: 1.9139 - val_acc: 0.5146\n",
      "Epoch 57/100\n",
      "50000/50000 [==============================] - 3s 64us/step - loss: 0.5819 - acc: 0.7910 - val_loss: 1.9105 - val_acc: 0.5231\n",
      "Epoch 58/100\n",
      "50000/50000 [==============================] - 3s 65us/step - loss: 0.5526 - acc: 0.8003 - val_loss: 1.8958 - val_acc: 0.5242\n",
      "Epoch 59/100\n"
     ]
    },
    {
     "name": "stdout",
     "output_type": "stream",
     "text": [
      "50000/50000 [==============================] - 3s 65us/step - loss: 0.5495 - acc: 0.8033 - val_loss: 1.9473 - val_acc: 0.5200\n",
      "Epoch 60/100\n",
      "50000/50000 [==============================] - 3s 64us/step - loss: 0.5525 - acc: 0.8006 - val_loss: 1.9557 - val_acc: 0.5139\n",
      "Epoch 61/100\n",
      "50000/50000 [==============================] - 3s 62us/step - loss: 0.5404 - acc: 0.8048 - val_loss: 1.9782 - val_acc: 0.5269\n",
      "Epoch 62/100\n",
      "50000/50000 [==============================] - 3s 62us/step - loss: 0.5209 - acc: 0.8141 - val_loss: 2.0157 - val_acc: 0.5162\n",
      "Epoch 63/100\n",
      "50000/50000 [==============================] - 3s 64us/step - loss: 0.5090 - acc: 0.8181 - val_loss: 2.0746 - val_acc: 0.5162\n",
      "Epoch 64/100\n",
      "50000/50000 [==============================] - 3s 62us/step - loss: 0.4977 - acc: 0.8223 - val_loss: 2.1070 - val_acc: 0.5131\n",
      "Epoch 65/100\n",
      "50000/50000 [==============================] - 3s 65us/step - loss: 0.4861 - acc: 0.8248 - val_loss: 2.1534 - val_acc: 0.5035\n",
      "Epoch 66/100\n",
      "50000/50000 [==============================] - 3s 65us/step - loss: 0.4861 - acc: 0.8240 - val_loss: 2.1499 - val_acc: 0.5079\n",
      "Epoch 67/100\n",
      "50000/50000 [==============================] - 3s 69us/step - loss: 0.4818 - acc: 0.8261 - val_loss: 2.2160 - val_acc: 0.5068\n",
      "Epoch 68/100\n",
      "50000/50000 [==============================] - 3s 68us/step - loss: 0.4651 - acc: 0.8337 - val_loss: 2.1738 - val_acc: 0.5105\n",
      "Epoch 69/100\n",
      "50000/50000 [==============================] - 3s 63us/step - loss: 0.4501 - acc: 0.8396 - val_loss: 2.2469 - val_acc: 0.5113\n",
      "Epoch 70/100\n",
      "50000/50000 [==============================] - 3s 63us/step - loss: 0.4429 - acc: 0.8410 - val_loss: 2.2468 - val_acc: 0.5166\n",
      "Epoch 71/100\n",
      "50000/50000 [==============================] - 3s 63us/step - loss: 0.4528 - acc: 0.8378 - val_loss: 2.2646 - val_acc: 0.5140\n",
      "Epoch 72/100\n",
      "50000/50000 [==============================] - 3s 65us/step - loss: 0.4396 - acc: 0.8423 - val_loss: 2.3301 - val_acc: 0.5099\n",
      "Epoch 73/100\n",
      "50000/50000 [==============================] - 4s 71us/step - loss: 0.4473 - acc: 0.8401 - val_loss: 2.3882 - val_acc: 0.5067\n",
      "Epoch 74/100\n",
      "50000/50000 [==============================] - 3s 67us/step - loss: 0.4164 - acc: 0.8512 - val_loss: 2.3044 - val_acc: 0.5087\n",
      "Epoch 75/100\n",
      "50000/50000 [==============================] - 3s 62us/step - loss: 0.4122 - acc: 0.8531 - val_loss: 2.3726 - val_acc: 0.5171\n",
      "Epoch 76/100\n",
      "50000/50000 [==============================] - 3s 67us/step - loss: 0.4005 - acc: 0.8568 - val_loss: 2.3836 - val_acc: 0.5113\n",
      "Epoch 77/100\n",
      "50000/50000 [==============================] - 3s 63us/step - loss: 0.3984 - acc: 0.8571 - val_loss: 2.4814 - val_acc: 0.4988\n",
      "Epoch 78/100\n",
      "50000/50000 [==============================] - 3s 66us/step - loss: 0.3916 - acc: 0.8599 - val_loss: 2.4292 - val_acc: 0.5092\n",
      "Epoch 79/100\n",
      "50000/50000 [==============================] - 3s 66us/step - loss: 0.4081 - acc: 0.8521 - val_loss: 2.4698 - val_acc: 0.5060\n",
      "Epoch 80/100\n",
      "50000/50000 [==============================] - 3s 64us/step - loss: 0.3858 - acc: 0.8615 - val_loss: 2.4907 - val_acc: 0.5071\n",
      "Epoch 81/100\n",
      "50000/50000 [==============================] - 3s 64us/step - loss: 0.3860 - acc: 0.8606 - val_loss: 2.4658 - val_acc: 0.5116\n",
      "Epoch 82/100\n",
      "50000/50000 [==============================] - 3s 66us/step - loss: 0.3717 - acc: 0.8663 - val_loss: 2.6107 - val_acc: 0.4989\n",
      "Epoch 83/100\n",
      "50000/50000 [==============================] - 3s 63us/step - loss: 0.3661 - acc: 0.8687 - val_loss: 2.5962 - val_acc: 0.4978\n",
      "Epoch 84/100\n",
      "50000/50000 [==============================] - 3s 62us/step - loss: 0.3729 - acc: 0.8656 - val_loss: 2.5766 - val_acc: 0.5088\n",
      "Epoch 85/100\n",
      "50000/50000 [==============================] - 3s 63us/step - loss: 0.3344 - acc: 0.8790 - val_loss: 2.7205 - val_acc: 0.5104\n",
      "Epoch 86/100\n",
      "50000/50000 [==============================] - 3s 65us/step - loss: 0.3529 - acc: 0.8729 - val_loss: 2.6228 - val_acc: 0.5045\n",
      "Epoch 87/100\n",
      "50000/50000 [==============================] - 3s 65us/step - loss: 0.3429 - acc: 0.8767 - val_loss: 2.6664 - val_acc: 0.5092\n",
      "Epoch 88/100\n",
      "50000/50000 [==============================] - 3s 65us/step - loss: 0.3391 - acc: 0.8782 - val_loss: 2.7238 - val_acc: 0.5040\n",
      "Epoch 89/100\n",
      "50000/50000 [==============================] - 3s 63us/step - loss: 0.3445 - acc: 0.8767 - val_loss: 2.7087 - val_acc: 0.5078\n",
      "Epoch 90/100\n",
      "50000/50000 [==============================] - 3s 63us/step - loss: 0.3778 - acc: 0.8612 - val_loss: 2.7858 - val_acc: 0.5001\n",
      "Epoch 91/100\n",
      "50000/50000 [==============================] - 3s 67us/step - loss: 0.3301 - acc: 0.8809 - val_loss: 2.8533 - val_acc: 0.4996\n",
      "Epoch 92/100\n",
      "50000/50000 [==============================] - 3s 68us/step - loss: 0.3127 - acc: 0.8880 - val_loss: 2.8070 - val_acc: 0.5004\n",
      "Epoch 93/100\n",
      "50000/50000 [==============================] - 3s 64us/step - loss: 0.3007 - acc: 0.8936 - val_loss: 2.7933 - val_acc: 0.5042\n",
      "Epoch 94/100\n",
      "50000/50000 [==============================] - 3s 63us/step - loss: 0.3219 - acc: 0.8825 - val_loss: 2.8843 - val_acc: 0.5030\n",
      "Epoch 95/100\n",
      "50000/50000 [==============================] - 3s 62us/step - loss: 0.3128 - acc: 0.8872 - val_loss: 2.8872 - val_acc: 0.5109\n",
      "Epoch 96/100\n",
      "50000/50000 [==============================] - 3s 63us/step - loss: 0.3330 - acc: 0.8803 - val_loss: 2.9797 - val_acc: 0.4990\n",
      "Epoch 97/100\n",
      "50000/50000 [==============================] - 3s 63us/step - loss: 0.2977 - acc: 0.8925 - val_loss: 2.9065 - val_acc: 0.5059\n",
      "Epoch 98/100\n",
      "50000/50000 [==============================] - 3s 63us/step - loss: 0.2909 - acc: 0.8944 - val_loss: 2.9707 - val_acc: 0.5001\n",
      "Epoch 99/100\n",
      "50000/50000 [==============================] - 3s 62us/step - loss: 0.3011 - acc: 0.8914 - val_loss: 2.9439 - val_acc: 0.5050\n",
      "Epoch 100/100\n",
      "50000/50000 [==============================] - 3s 62us/step - loss: 0.3210 - acc: 0.8842 - val_loss: 2.9585 - val_acc: 0.5032\n"
     ]
    },
    {
     "data": {
      "text/plain": [
       "<keras.callbacks.History at 0x1f6bfe5fe80>"
      ]
     },
     "execution_count": 9,
     "metadata": {},
     "output_type": "execute_result"
    }
   ],
   "source": [
    "model.fit(x_train, y_train, \n",
    "          epochs=EPOCHS, \n",
    "          batch_size=BATCH_SIZE, \n",
    "          validation_data=(x_test, y_test), \n",
    "          shuffle=True)"
   ]
  },
  {
   "cell_type": "markdown",
   "metadata": {},
   "source": [
    "### 嘗試將 preproc_x 替換成以每筆資料的 min/max 進行標準化至 -1 ~ 1 間，再進行訓練"
   ]
  },
  {
   "cell_type": "code",
   "execution_count": 10,
   "metadata": {},
   "outputs": [
    {
     "data": {
      "image/png": "[encoded data removed]",
      "text/plain": [
       "<Figure size 432x288 with 1 Axes>"
      ]
     },
     "metadata": {
      "needs_background": "light"
     },
     "output_type": "display_data"
    },
    {
     "data": {
      "image/png": "[encoded data removed]",
      "text/plain": [
       "<Figure size 432x288 with 1 Axes>"
      ]
     },
     "metadata": {
      "needs_background": "light"
     },
     "output_type": "display_data"
    }
   ],
   "source": [
    "import matplotlib.pyplot as plt\n",
    "%matplotlib inline\n",
    "\n",
    "train_loss = model.history.history[\"loss\"]\n",
    "valid_loss = model.history.history[\"val_loss\"]\n",
    "\n",
    "train_acc = model.history.history[\"acc\"]\n",
    "valid_acc = model.history.history[\"val_acc\"]\n",
    "\n",
    "plt.plot(range(len(train_loss)), train_loss, label=\"train loss\")\n",
    "plt.plot(range(len(valid_loss)), valid_loss, label=\"valid loss\")\n",
    "plt.legend()\n",
    "plt.title(\"Loss\")\n",
    "plt.show()\n",
    "\n",
    "plt.plot(range(len(train_acc)), train_acc, label=\"train accuracy\")\n",
    "plt.plot(range(len(valid_acc)), valid_acc, label=\"valid accuracy\")\n",
    "plt.legend()\n",
    "plt.title(\"Accuracy\")\n",
    "plt.show()"
   ]
  },
  {
   "cell_type": "markdown",
   "metadata": {},
   "source": [
    "### 嘗試將 mlp 疊更深 (e.g 6 層)，進行訓練後觀察 learning curve 的走勢"
   ]
  },
  {
   "cell_type": "code",
   "execution_count": 16,
   "metadata": {},
   "outputs": [
    {
     "name": "stdout",
     "output_type": "stream",
     "text": [
      "_________________________________________________________________\n",
      "Layer (type)                 Output Shape              Param #   \n",
      "=================================================================\n",
      "input_4 (InputLayer)         (None, 3072)              0         \n",
      "_________________________________________________________________\n",
      "hidden_layer1 (Dense)        (None, 512)               1573376   \n",
      "_________________________________________________________________\n",
      "hidden_layer2 (Dense)        (None, 256)               131328    \n",
      "_________________________________________________________________\n",
      "hidden_layer3 (Dense)        (None, 128)               32896     \n",
      "_________________________________________________________________\n",
      "hidden_layer4 (Dense)        (None, 64)                8256      \n",
      "_________________________________________________________________\n",
      "hidden_layer5 (Dense)        (None, 32)                2080      \n",
      "_________________________________________________________________\n",
      "hidden_layer6 (Dense)        (None, 16)                528       \n",
      "_________________________________________________________________\n",
      "output (Dense)               (None, 10)                170       \n",
      "=================================================================\n",
      "Total params: 1,748,634\n",
      "Trainable params: 1,748,634\n",
      "Non-trainable params: 0\n",
      "_________________________________________________________________\n"
     ]
    }
   ],
   "source": [
    "def build_mlp2(input_shape, output_units=10, num_neurons=[512, 256, 128, 64, 32, 16]):\n",
    "    input_layer = keras.layers.Input(input_shape)\n",
    "    \n",
    "    for i, n_units in enumerate(num_neurons):\n",
    "        if i == 0:\n",
    "            x = keras.layers.Dense(units=n_units, activation=\"relu\", name=\"hidden_layer\"+str(i+1))(input_layer)\n",
    "        else:\n",
    "            x = keras.layers.Dense(units=n_units, activation=\"relu\", name=\"hidden_layer\"+str(i+1))(x)\n",
    "    \n",
    "    out = keras.layers.Dense(units=output_units, activation=\"softmax\", name=\"output\")(x)\n",
    "    \n",
    "    model = keras.models.Model(inputs=[input_layer], outputs=[out])\n",
    "    return model\n",
    "\n",
    "model = build_mlp2(input_shape=x_train.shape[1:])\n",
    "model.summary()"
   ]
  },
  {
   "cell_type": "code",
   "execution_count": 17,
   "metadata": {},
   "outputs": [],
   "source": [
    "## 超參數設定\n",
    "LEARNING_RATE = 0.001\n",
    "EPOCHS = 100\n",
    "BATCH_SIZE = 256"
   ]
  },
  {
   "cell_type": "code",
   "execution_count": 18,
   "metadata": {
    "scrolled": true
   },
   "outputs": [
    {
     "name": "stdout",
     "output_type": "stream",
     "text": [
      "Train on 50000 samples, validate on 10000 samples\n",
      "Epoch 1/100\n",
      "50000/50000 [==============================] - 5s 109us/step - loss: 2.1299 - acc: 0.2001 - val_loss: 1.9244 - val_acc: 0.3112\n",
      "Epoch 2/100\n",
      "50000/50000 [==============================] - 5s 91us/step - loss: 1.8314 - acc: 0.3366 - val_loss: 1.7547 - val_acc: 0.3713\n",
      "Epoch 3/100\n",
      "50000/50000 [==============================] - 5s 98us/step - loss: 1.7263 - acc: 0.3757 - val_loss: 1.6683 - val_acc: 0.3878\n",
      "Epoch 4/100\n",
      "50000/50000 [==============================] - 4s 83us/step - loss: 1.6520 - acc: 0.4031 - val_loss: 1.6363 - val_acc: 0.4008\n",
      "Epoch 5/100\n",
      "50000/50000 [==============================] - 4s 88us/step - loss: 1.5967 - acc: 0.4265 - val_loss: 1.5506 - val_acc: 0.4481\n",
      "Epoch 6/100\n",
      "50000/50000 [==============================] - 4s 89us/step - loss: 1.5504 - acc: 0.4429 - val_loss: 1.5519 - val_acc: 0.4380\n",
      "Epoch 7/100\n",
      "50000/50000 [==============================] - 4s 80us/step - loss: 1.5002 - acc: 0.4639 - val_loss: 1.5985 - val_acc: 0.4369\n",
      "Epoch 8/100\n",
      "50000/50000 [==============================] - 4s 81us/step - loss: 1.4770 - acc: 0.4726 - val_loss: 1.4944 - val_acc: 0.4715\n",
      "Epoch 9/100\n",
      "50000/50000 [==============================] - 4s 81us/step - loss: 1.4393 - acc: 0.4855 - val_loss: 1.5007 - val_acc: 0.4691\n",
      "Epoch 10/100\n",
      "50000/50000 [==============================] - 4s 82us/step - loss: 1.4159 - acc: 0.4946 - val_loss: 1.4886 - val_acc: 0.4692\n",
      "Epoch 11/100\n",
      "50000/50000 [==============================] - 4s 87us/step - loss: 1.3892 - acc: 0.5048 - val_loss: 1.4462 - val_acc: 0.4854\n",
      "Epoch 12/100\n",
      "50000/50000 [==============================] - 4s 81us/step - loss: 1.3596 - acc: 0.5149 - val_loss: 1.4215 - val_acc: 0.5010\n",
      "Epoch 13/100\n",
      "50000/50000 [==============================] - 4s 80us/step - loss: 1.3470 - acc: 0.5196 - val_loss: 1.4453 - val_acc: 0.4883\n",
      "Epoch 14/100\n",
      "50000/50000 [==============================] - 4s 77us/step - loss: 1.3209 - acc: 0.5275 - val_loss: 1.4100 - val_acc: 0.4980\n",
      "Epoch 15/100\n",
      "50000/50000 [==============================] - 4s 81us/step - loss: 1.2886 - acc: 0.5387 - val_loss: 1.4076 - val_acc: 0.5040\n",
      "Epoch 16/100\n",
      "50000/50000 [==============================] - 4s 82us/step - loss: 1.2725 - acc: 0.5463 - val_loss: 1.4127 - val_acc: 0.5045\n",
      "Epoch 17/100\n",
      "50000/50000 [==============================] - 4s 82us/step - loss: 1.2548 - acc: 0.5515 - val_loss: 1.4374 - val_acc: 0.4919\n",
      "Epoch 18/100\n",
      "50000/50000 [==============================] - 4s 84us/step - loss: 1.2362 - acc: 0.5567 - val_loss: 1.3939 - val_acc: 0.5058\n",
      "Epoch 19/100\n",
      "50000/50000 [==============================] - 4s 87us/step - loss: 1.2079 - acc: 0.5678 - val_loss: 1.4259 - val_acc: 0.4986\n",
      "Epoch 20/100\n",
      "50000/50000 [==============================] - 5s 95us/step - loss: 1.1893 - acc: 0.5738 - val_loss: 1.4345 - val_acc: 0.5022\n",
      "Epoch 21/100\n",
      "50000/50000 [==============================] - 4s 80us/step - loss: 1.1679 - acc: 0.5812 - val_loss: 1.4103 - val_acc: 0.5103\n",
      "Epoch 22/100\n",
      "50000/50000 [==============================] - 4s 78us/step - loss: 1.1569 - acc: 0.5851 - val_loss: 1.3557 - val_acc: 0.5257\n",
      "Epoch 23/100\n",
      "50000/50000 [==============================] - 4s 87us/step - loss: 1.1260 - acc: 0.5970 - val_loss: 1.3728 - val_acc: 0.5271\n",
      "Epoch 24/100\n",
      "50000/50000 [==============================] - 4s 86us/step - loss: 1.1167 - acc: 0.6015 - val_loss: 1.3993 - val_acc: 0.5131\n",
      "Epoch 25/100\n",
      "50000/50000 [==============================] - 4s 81us/step - loss: 1.0959 - acc: 0.6098 - val_loss: 1.3831 - val_acc: 0.5252\n",
      "Epoch 26/100\n",
      "50000/50000 [==============================] - 4s 81us/step - loss: 1.0744 - acc: 0.6156 - val_loss: 1.4161 - val_acc: 0.5197\n",
      "Epoch 27/100\n",
      "50000/50000 [==============================] - 4s 84us/step - loss: 1.0599 - acc: 0.6198 - val_loss: 1.4498 - val_acc: 0.5112\n",
      "Epoch 28/100\n",
      "50000/50000 [==============================] - 4s 85us/step - loss: 1.0428 - acc: 0.6270 - val_loss: 1.4579 - val_acc: 0.5156s - loss: 1\n",
      "Epoch 29/100\n",
      "50000/50000 [==============================] - 4s 83us/step - loss: 1.0267 - acc: 0.6321 - val_loss: 1.4101 - val_acc: 0.5261\n",
      "Epoch 30/100\n",
      "50000/50000 [==============================] - 4s 82us/step - loss: 1.0015 - acc: 0.6396 - val_loss: 1.4306 - val_acc: 0.5200\n",
      "Epoch 31/100\n",
      "50000/50000 [==============================] - 4s 77us/step - loss: 0.9925 - acc: 0.6447 - val_loss: 1.4264 - val_acc: 0.5257\n",
      "Epoch 32/100\n",
      "50000/50000 [==============================] - 4s 83us/step - loss: 0.9768 - acc: 0.6499 - val_loss: 1.4696 - val_acc: 0.5145\n",
      "Epoch 33/100\n",
      "50000/50000 [==============================] - 4s 78us/step - loss: 0.9479 - acc: 0.6602 - val_loss: 1.5017 - val_acc: 0.5129\n",
      "Epoch 34/100\n",
      "50000/50000 [==============================] - 4s 77us/step - loss: 0.9356 - acc: 0.6643 - val_loss: 1.5574 - val_acc: 0.5116\n",
      "Epoch 35/100\n",
      "50000/50000 [==============================] - 4s 79us/step - loss: 0.9227 - acc: 0.6704 - val_loss: 1.4794 - val_acc: 0.5248\n",
      "Epoch 36/100\n",
      "50000/50000 [==============================] - 4s 81us/step - loss: 0.9086 - acc: 0.6756 - val_loss: 1.5407 - val_acc: 0.5230\n",
      "Epoch 37/100\n",
      "50000/50000 [==============================] - 4s 81us/step - loss: 0.8790 - acc: 0.6843 - val_loss: 1.4983 - val_acc: 0.5236\n",
      "Epoch 38/100\n",
      "50000/50000 [==============================] - 4s 81us/step - loss: 0.8785 - acc: 0.6845 - val_loss: 1.5597 - val_acc: 0.5224\n",
      "Epoch 39/100\n",
      "50000/50000 [==============================] - 5s 92us/step - loss: 0.8556 - acc: 0.6913 - val_loss: 1.6094 - val_acc: 0.5142\n",
      "Epoch 40/100\n",
      "50000/50000 [==============================] - 4s 89us/step - loss: 0.8378 - acc: 0.6994 - val_loss: 1.5570 - val_acc: 0.5213\n",
      "Epoch 41/100\n",
      "50000/50000 [==============================] - 4s 78us/step - loss: 0.8212 - acc: 0.7061 - val_loss: 1.5992 - val_acc: 0.5112\n",
      "Epoch 42/100\n",
      "50000/50000 [==============================] - 4s 79us/step - loss: 0.8098 - acc: 0.7091 - val_loss: 1.5956 - val_acc: 0.5296\n",
      "Epoch 43/100\n",
      "50000/50000 [==============================] - 4s 83us/step - loss: 0.7830 - acc: 0.7180 - val_loss: 1.6554 - val_acc: 0.5185\n",
      "Epoch 44/100\n",
      "50000/50000 [==============================] - 4s 84us/step - loss: 0.7800 - acc: 0.7193 - val_loss: 1.6800 - val_acc: 0.5120\n",
      "Epoch 45/100\n",
      "50000/50000 [==============================] - 4s 80us/step - loss: 0.7615 - acc: 0.7280 - val_loss: 1.7300 - val_acc: 0.4992\n",
      "Epoch 46/100\n",
      "50000/50000 [==============================] - 4s 80us/step - loss: 0.7647 - acc: 0.7270 - val_loss: 1.6395 - val_acc: 0.5190\n",
      "Epoch 47/100\n",
      "50000/50000 [==============================] - 4s 80us/step - loss: 0.7353 - acc: 0.7370 - val_loss: 1.7263 - val_acc: 0.5116\n",
      "Epoch 48/100\n",
      "50000/50000 [==============================] - 4s 83us/step - loss: 0.7147 - acc: 0.7450 - val_loss: 1.7385 - val_acc: 0.5118\n",
      "Epoch 49/100\n",
      "50000/50000 [==============================] - 4s 78us/step - loss: 0.7120 - acc: 0.7449 - val_loss: 1.7640 - val_acc: 0.5046\n",
      "Epoch 50/100\n",
      "50000/50000 [==============================] - 4s 77us/step - loss: 0.6991 - acc: 0.7493 - val_loss: 1.7791 - val_acc: 0.5159\n",
      "Epoch 51/100\n",
      "50000/50000 [==============================] - 4s 77us/step - loss: 0.6837 - acc: 0.7554 - val_loss: 1.8401 - val_acc: 0.5046\n",
      "Epoch 52/100\n",
      "50000/50000 [==============================] - 4s 80us/step - loss: 0.6846 - acc: 0.7532 - val_loss: 1.8127 - val_acc: 0.5142\n",
      "Epoch 53/100\n",
      "50000/50000 [==============================] - 4s 78us/step - loss: 0.6627 - acc: 0.7633 - val_loss: 1.8922 - val_acc: 0.5043\n",
      "Epoch 54/100\n",
      "50000/50000 [==============================] - 4s 79us/step - loss: 0.6553 - acc: 0.7636 - val_loss: 1.8502 - val_acc: 0.5124\n",
      "Epoch 55/100\n",
      "50000/50000 [==============================] - 4s 80us/step - loss: 0.6488 - acc: 0.7680 - val_loss: 1.8805 - val_acc: 0.5030\n",
      "Epoch 56/100\n",
      "50000/50000 [==============================] - 4s 81us/step - loss: 0.6361 - acc: 0.7708 - val_loss: 1.9121 - val_acc: 0.5086\n",
      "Epoch 57/100\n",
      "50000/50000 [==============================] - 4s 79us/step - loss: 0.6167 - acc: 0.7772 - val_loss: 1.9618 - val_acc: 0.5116\n",
      "Epoch 58/100\n",
      "50000/50000 [==============================] - 4s 81us/step - loss: 0.6089 - acc: 0.7848 - val_loss: 1.9346 - val_acc: 0.5043\n",
      "Epoch 59/100\n"
     ]
    },
    {
     "name": "stdout",
     "output_type": "stream",
     "text": [
      "50000/50000 [==============================] - 4s 81us/step - loss: 0.5883 - acc: 0.7894 - val_loss: 1.9938 - val_acc: 0.5049\n",
      "Epoch 60/100\n",
      "50000/50000 [==============================] - 4s 80us/step - loss: 0.5832 - acc: 0.7903 - val_loss: 2.0575 - val_acc: 0.5028\n",
      "Epoch 61/100\n",
      "50000/50000 [==============================] - 4s 77us/step - loss: 0.6163 - acc: 0.7789 - val_loss: 2.0085 - val_acc: 0.4999\n",
      "Epoch 62/100\n",
      "50000/50000 [==============================] - 4s 80us/step - loss: 0.5821 - acc: 0.7897 - val_loss: 2.0705 - val_acc: 0.5034\n",
      "Epoch 63/100\n",
      "50000/50000 [==============================] - 4s 77us/step - loss: 0.5580 - acc: 0.7993 - val_loss: 2.1347 - val_acc: 0.4968\n",
      "Epoch 64/100\n",
      "50000/50000 [==============================] - 4s 77us/step - loss: 0.5470 - acc: 0.8037 - val_loss: 2.1043 - val_acc: 0.5062\n",
      "Epoch 65/100\n",
      "50000/50000 [==============================] - 4s 78us/step - loss: 0.5367 - acc: 0.8080 - val_loss: 2.2256 - val_acc: 0.4937\n",
      "Epoch 66/100\n",
      "50000/50000 [==============================] - 4s 76us/step - loss: 0.5616 - acc: 0.7973 - val_loss: 2.1828 - val_acc: 0.5011\n",
      "Epoch 67/100\n",
      "50000/50000 [==============================] - 4s 78us/step - loss: 0.5168 - acc: 0.8135 - val_loss: 2.3004 - val_acc: 0.5052\n",
      "Epoch 68/100\n",
      "50000/50000 [==============================] - 4s 78us/step - loss: 0.5172 - acc: 0.8117 - val_loss: 2.3000 - val_acc: 0.4946\n",
      "Epoch 69/100\n",
      "50000/50000 [==============================] - 4s 78us/step - loss: 0.5253 - acc: 0.8114 - val_loss: 2.2117 - val_acc: 0.5041\n",
      "Epoch 70/100\n",
      "50000/50000 [==============================] - 4s 77us/step - loss: 0.5147 - acc: 0.8138 - val_loss: 2.3231 - val_acc: 0.4952\n",
      "Epoch 71/100\n",
      "50000/50000 [==============================] - 4s 75us/step - loss: 0.5024 - acc: 0.8208 - val_loss: 2.3138 - val_acc: 0.4934\n",
      "Epoch 72/100\n",
      "50000/50000 [==============================] - 4s 75us/step - loss: 0.4798 - acc: 0.8280 - val_loss: 2.3847 - val_acc: 0.5068\n",
      "Epoch 73/100\n",
      "50000/50000 [==============================] - 4s 79us/step - loss: 0.4697 - acc: 0.8299 - val_loss: 2.4399 - val_acc: 0.5104\n",
      "Epoch 74/100\n",
      "50000/50000 [==============================] - 4s 77us/step - loss: 0.4813 - acc: 0.8270 - val_loss: 2.3935 - val_acc: 0.5063\n",
      "Epoch 75/100\n",
      "50000/50000 [==============================] - 4s 80us/step - loss: 0.4942 - acc: 0.8227 - val_loss: 2.3207 - val_acc: 0.5010\n",
      "Epoch 76/100\n",
      "50000/50000 [==============================] - 4s 81us/step - loss: 0.4729 - acc: 0.8312 - val_loss: 2.4205 - val_acc: 0.4986\n",
      "Epoch 77/100\n",
      "50000/50000 [==============================] - 4s 86us/step - loss: 0.4586 - acc: 0.8346 - val_loss: 2.4674 - val_acc: 0.4978\n",
      "Epoch 78/100\n",
      "50000/50000 [==============================] - 4s 78us/step - loss: 0.4485 - acc: 0.8373 - val_loss: 2.4275 - val_acc: 0.4979\n",
      "Epoch 79/100\n",
      "50000/50000 [==============================] - 4s 80us/step - loss: 0.4472 - acc: 0.8400 - val_loss: 2.5303 - val_acc: 0.4969\n",
      "Epoch 80/100\n",
      "50000/50000 [==============================] - 4s 84us/step - loss: 0.4356 - acc: 0.8440 - val_loss: 2.6217 - val_acc: 0.4929\n",
      "Epoch 81/100\n",
      "50000/50000 [==============================] - 4s 77us/step - loss: 0.4384 - acc: 0.8423 - val_loss: 2.5034 - val_acc: 0.4957\n",
      "Epoch 82/100\n",
      "50000/50000 [==============================] - 4s 77us/step - loss: 0.4364 - acc: 0.8422 - val_loss: 2.5092 - val_acc: 0.5048\n",
      "Epoch 83/100\n",
      "50000/50000 [==============================] - 4s 86us/step - loss: 0.4186 - acc: 0.8487 - val_loss: 2.5859 - val_acc: 0.5002\n",
      "Epoch 84/100\n",
      "50000/50000 [==============================] - 4s 82us/step - loss: 0.4347 - acc: 0.8439 - val_loss: 2.5578 - val_acc: 0.5023\n",
      "Epoch 85/100\n",
      "50000/50000 [==============================] - 4s 75us/step - loss: 0.4199 - acc: 0.8497 - val_loss: 2.6643 - val_acc: 0.4937\n",
      "Epoch 86/100\n",
      "50000/50000 [==============================] - 5s 93us/step - loss: 0.4278 - acc: 0.8466 - val_loss: 2.6227 - val_acc: 0.4959\n",
      "Epoch 87/100\n",
      "50000/50000 [==============================] - 4s 80us/step - loss: 0.3963 - acc: 0.8580 - val_loss: 2.6985 - val_acc: 0.4871\n",
      "Epoch 88/100\n",
      "50000/50000 [==============================] - 4s 82us/step - loss: 0.3880 - acc: 0.8606 - val_loss: 2.7114 - val_acc: 0.4957\n",
      "Epoch 89/100\n",
      "50000/50000 [==============================] - 4s 77us/step - loss: 0.3954 - acc: 0.8580 - val_loss: 2.7975 - val_acc: 0.4898\n",
      "Epoch 90/100\n",
      "50000/50000 [==============================] - 4s 76us/step - loss: 0.4144 - acc: 0.8500 - val_loss: 2.7299 - val_acc: 0.4997\n",
      "Epoch 91/100\n",
      "50000/50000 [==============================] - 4s 75us/step - loss: 0.3729 - acc: 0.8659 - val_loss: 2.7441 - val_acc: 0.4979\n",
      "Epoch 92/100\n",
      "50000/50000 [==============================] - 4s 76us/step - loss: 0.3874 - acc: 0.8602 - val_loss: 2.7836 - val_acc: 0.4957\n",
      "Epoch 93/100\n",
      "50000/50000 [==============================] - 4s 76us/step - loss: 0.3734 - acc: 0.8634 - val_loss: 2.8064 - val_acc: 0.4941\n",
      "Epoch 94/100\n",
      "50000/50000 [==============================] - 4s 78us/step - loss: 0.3532 - acc: 0.8724 - val_loss: 2.8256 - val_acc: 0.4937\n",
      "Epoch 95/100\n",
      "50000/50000 [==============================] - 4s 76us/step - loss: 0.3690 - acc: 0.8670 - val_loss: 2.8192 - val_acc: 0.4923\n",
      "Epoch 96/100\n",
      "50000/50000 [==============================] - 4s 75us/step - loss: 0.4020 - acc: 0.8554 - val_loss: 2.9002 - val_acc: 0.4916\n",
      "Epoch 97/100\n",
      "50000/50000 [==============================] - 4s 75us/step - loss: 0.3668 - acc: 0.8677 - val_loss: 2.8306 - val_acc: 0.4995\n",
      "Epoch 98/100\n",
      "50000/50000 [==============================] - 4s 75us/step - loss: 0.3616 - acc: 0.8706 - val_loss: 2.8578 - val_acc: 0.4948\n",
      "Epoch 99/100\n",
      "50000/50000 [==============================] - 4s 75us/step - loss: 0.3583 - acc: 0.8707 - val_loss: 2.8955 - val_acc: 0.4958\n",
      "Epoch 100/100\n",
      "50000/50000 [==============================] - 4s 78us/step - loss: 0.3388 - acc: 0.8790 - val_loss: 2.9885 - val_acc: 0.4956\n"
     ]
    },
    {
     "data": {
      "text/plain": [
       "<keras.callbacks.History at 0x1f6c075ac50>"
      ]
     },
     "execution_count": 18,
     "metadata": {},
     "output_type": "execute_result"
    }
   ],
   "source": [
    "optimizer = keras.optimizers.Adam(lr=LEARNING_RATE)\n",
    "model.compile(loss=\"categorical_crossentropy\", metrics=[\"accuracy\"], optimizer=optimizer)\n",
    "\n",
    "model.fit(x_train, y_train, \n",
    "          epochs=EPOCHS, \n",
    "          batch_size=BATCH_SIZE, \n",
    "          validation_data=(x_test, y_test), \n",
    "          shuffle=True)"
   ]
  },
  {
   "cell_type": "code",
   "execution_count": 19,
   "metadata": {},
   "outputs": [
    {
     "data": {
      "image/png": "[encoded data removed]",
      "text/plain": [
       "<Figure size 432x288 with 1 Axes>"
      ]
     },
     "metadata": {
      "needs_background": "light"
     },
     "output_type": "display_data"
    },
    {
     "data": {
      "image/png": "[encoded data removed]",
      "text/plain": [
       "<Figure size 432x288 with 1 Axes>"
      ]
     },
     "metadata": {
      "needs_background": "light"
     },
     "output_type": "display_data"
    }
   ],
   "source": [
    "import matplotlib.pyplot as plt\n",
    "%matplotlib inline\n",
    "\n",
    "train_loss = model.history.history[\"loss\"]\n",
    "valid_loss = model.history.history[\"val_loss\"]\n",
    "\n",
    "train_acc = model.history.history[\"acc\"]\n",
    "valid_acc = model.history.history[\"val_acc\"]\n",
    "\n",
    "plt.plot(range(len(train_loss)), train_loss, label=\"train loss\")\n",
    "plt.plot(range(len(valid_loss)), valid_loss, label=\"valid loss\")\n",
    "plt.legend()\n",
    "plt.title(\"Loss\")\n",
    "plt.show()\n",
    "\n",
    "plt.plot(range(len(train_acc)), train_acc, label=\"train accuracy\")\n",
    "plt.plot(range(len(valid_acc)), valid_acc, label=\"valid accuracy\")\n",
    "plt.legend()\n",
    "plt.title(\"Accuracy\")\n",
    "plt.show()"
   ]
  },
  {
   "cell_type": "code",
   "execution_count": null,
   "metadata": {},
   "outputs": [],
   "source": []
  }
 ],
 "metadata": {
  "kernelspec": {
   "display_name": "Python 3",
   "language": "python",
   "name": "python3"
  },
  "language_info": {
   "codemirror_mode": {
    "name": "ipython",
    "version": 3
   },
   "file_extension": ".py",
   "mimetype": "text/x-python",
   "name": "python",
   "nbconvert_exporter": "python",
   "pygments_lexer": "ipython3",
   "version": "3.7.3"
  }
 },
 "nbformat": 4,
 "nbformat_minor": 2
}
